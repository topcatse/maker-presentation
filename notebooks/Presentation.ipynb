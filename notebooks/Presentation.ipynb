{
 "cells": [
  {
   "cell_type": "markdown",
   "metadata": {
    "deletable": true,
    "editable": true
   },
   "source": [
    "# Programutveckling med Git\n",
    "**En introduktion**"
   ]
  },
  {
   "cell_type": "markdown",
   "metadata": {
    "deletable": true,
    "editable": true
   },
   "source": [
    "## Why Git\n",
    "- Share information with others and/or yourself\n",
    "- Work with multiple things at the same time\n",
    "- Backup\n",
    "- Test stuff quick and easy"
   ]
  },
  {
   "cell_type": "markdown",
   "metadata": {
    "collapsed": false,
    "deletable": true,
    "editable": true,
    "scrolled": true
   },
   "source": [
    "from IPython.core.display import HTML\n",
    "HTML('<iframe width=\"560\" height=\"315\" src=\"https://www.youtube.com/embed/pOSqctHH9vY\" frameborder=\"0\" allowfullscreen></iframe>')"
   ]
  },
  {
   "cell_type": "markdown",
   "metadata": {},
   "source": [
    "## Centralized Version Control Systems\n",
    "<img src=\"centralized.png\", width=600>"
   ]
  },
  {
   "cell_type": "markdown",
   "metadata": {},
   "source": [
    "## Distributed Version Control Systems\n",
    "<img src=\"distributed.png\", width=500>"
   ]
  },
  {
   "cell_type": "markdown",
   "metadata": {
    "deletable": true,
    "editable": true
   },
   "source": [
    "<img src=\"snapshots.png\", width=500>"
   ]
  },
  {
   "cell_type": "markdown",
   "metadata": {},
   "source": [
    "## Git concepts\n",
    "\n",
    "### Data Model\n",
    "- Blobs (Atual data)\n",
    "- Tree\n",
    "\n",
    "<img src=\"data-model-2.png\", width=300>\n",
    "\n",
    "### SHA1\n",
    "<img src=\"sha1.jpg\", width=300>\n",
    "\n"
   ]
  },
  {
   "cell_type": "code",
   "execution_count": null,
   "metadata": {
    "collapsed": false,
    "deletable": true,
    "editable": true
   },
   "outputs": [],
   "source": [
    "from IPython.core.display import HTML\n",
    "HTML('<iframe src=https://www.atlassian.com/git/tutorials/setting-up-a-repository/ width=800 height=500></iframe>')"
   ]
  },
  {
   "cell_type": "code",
   "execution_count": 22,
   "metadata": {
    "collapsed": false,
    "deletable": true,
    "editable": true
   },
   "outputs": [
    {
     "name": "stdout",
     "output_type": "stream",
     "text": [
      "\u001b[01;34m.\u001b[00m\n",
      "├── LICENSE\n",
      "├── README.md\n",
      "└── \u001b[01;34mTickCounter\u001b[00m\n",
      "    ├── KeyTicker.h\n",
      "    ├── TickerInterface.h\n",
      "    ├── main.cpp\n",
      "    └── meson.build\n",
      "\n",
      "1 directory, 6 files\n"
     ]
    }
   ],
   "source": [
    "%%bash\n",
    "cd ..\n",
    "tree -C -I \"build|notebooks\""
   ]
  },
  {
   "cell_type": "code",
   "execution_count": 3,
   "metadata": {
    "collapsed": false,
    "deletable": true,
    "editable": true
   },
   "outputs": [
    {
     "name": "stdout",
     "output_type": "stream",
     "text": [
      "Presentation.ipynb\n",
      "advance-master.png\n",
      "advance-testing.png\n",
      "areas.png\n",
      "branch-and-history.png\n",
      "centralized.png\n",
      "checkout-master.png\n",
      "commit-and-tree.png\n",
      "commits-and-parents.png\n",
      "distributed.png\n",
      "head-to-master.png\n",
      "head-to-testing.png\n",
      "lifecycle.png\n",
      "snapshots.png\n",
      "two-branches.png\n"
     ]
    }
   ],
   "source": [
    "%%bash\n",
    "ls"
   ]
  },
  {
   "cell_type": "markdown",
   "metadata": {
    "deletable": true,
    "editable": true
   },
   "source": [
    "## Versionshantering\n",
    "\n",
    "![Alt Text](https://product.hubspot.com/hs-fs/hubfs/Git_101-1.jpg?t=1488923369752&width=620&height=516&name=Git_101-1.jpg \"Title\")"
   ]
  },
  {
   "cell_type": "markdown",
   "metadata": {
    "deletable": true,
    "editable": true
   },
   "source": [
    "docker run --rm -it -v `pwd`:/work topcatse/mesondocker /bin/bash"
   ]
  }
 ],
 "metadata": {
  "kernelspec": {
   "display_name": "Python 3",
   "language": "python",
   "name": "python3"
  },
  "language_info": {
   "codemirror_mode": {
    "name": "ipython",
    "version": 3
   },
   "file_extension": ".py",
   "mimetype": "text/x-python",
   "name": "python",
   "nbconvert_exporter": "python",
   "pygments_lexer": "ipython3",
   "version": "3.6.1"
  }
 },
 "nbformat": 4,
 "nbformat_minor": 2
}
