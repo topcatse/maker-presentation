{
 "cells": [
  {
   "cell_type": "markdown",
   "metadata": {
    "deletable": true,
    "editable": true
   },
   "source": [
    "# Programutveckling med Git\n",
    "**En introduktion**\n",
    "\n",
    "Most images in this presentation are from the Pro Git book. The entire [Pro Git book](https://git-scm.com/book/en/v2), written by Scott Chacon and Ben Straub and published by Apress, is available here. All content is licensed under the [Creative Commons Attribution Non Commercial Share Alike 3.0 license](https://creativecommons.org/licenses/by-nc-sa/3.0/). Print versions of the book are available on Amazon.com.\n",
    "\n",
    "Some images are from [Git With The Program: Introduction to Basic Git Concepts - Drupal Camp LA 2013](https://www.slideshare.net/mwrather/git-with-the-program-dcla-2013). All content is licensed under the [CC Attribution-ShareAlike License](https://creativecommons.org/licenses/by-sa/4.0/).\n"
   ]
  },
  {
   "cell_type": "markdown",
   "metadata": {
    "deletable": true,
    "editable": true
   },
   "source": [
    "## Why Git\n",
    "- Share information with others and/or yourself\n",
    "- Work with multiple things at the same time\n",
    "- Backup\n",
    "- Test stuff quick and easy"
   ]
  },
  {
   "cell_type": "code",
   "execution_count": null,
   "metadata": {
    "collapsed": false,
    "deletable": true,
    "editable": true
   },
   "outputs": [],
   "source": [
    "from IPython.core.display import HTML\n",
    "HTML('<iframe width=\"560\" height=\"315\" src=\"https://www.youtube.com/embed/pOSqctHH9vY\" frameborder=\"0\" allowfullscreen></iframe>')"
   ]
  },
  {
   "cell_type": "markdown",
   "metadata": {
    "deletable": true,
    "editable": true
   },
   "source": [
    "## Version Control Systems\n",
    "\n",
    "**To mention a few:**\n",
    "* Centralized Version Control Systems\n",
    "    - Git\n",
    "    - Mercurial\n",
    "* Distributed Version Control Systems\n",
    "    - SCCS\n",
    "    - RCS\n",
    "    - CVS\n",
    "    - PVCS\n",
    "    - SourceTree\n",
    "    - TFS\n",
    "    - Perforce\n",
    "    \n",
    "Centralized | Distributed\n",
    "- | -\n",
    "<img src=\"centralized.png\", width=600> | <img src=\"distributed.png\", width=600>"
   ]
  },
  {
   "cell_type": "markdown",
   "metadata": {
    "deletable": true,
    "editable": true
   },
   "source": [
    "## Git concepts\n",
    "\n",
    "### Stream of snapshots\n",
    "<img src=\"snapshots.png\", width=600>\n",
    "\n",
    "### List of file-based changes\n",
    "<img src=\"deltas.png\", width=600>\n",
    "\n",
    "### Data Model\n",
    "- Blobs (atual data)\n",
    "- Tree (directories of blobs or of other trees)\n",
    "- A commit\n",
    "    * A tree\n",
    "    * Zero or more parent commits\n",
    "    * Meta data (message, email, timestamp)\n",
    "<img src=\"data-model-2.png\", width=600>\n",
    "\n",
    "### SHA1\n",
    "<img src=\"sha1.jpg\", width=300>\n",
    "\n",
    "### The Three States\n",
    "<img src=\"areas.png\", width=600>"
   ]
  },
  {
   "cell_type": "markdown",
   "metadata": {
    "deletable": true,
    "editable": true
   },
   "source": [
    "## Let's get started\n",
    "- Install Git. Start here: https://git-scm.com\n",
    "- First time setup on local machine\n",
    "    * git config --global user.name \"John Doe\"\n",
    "    * git config --global user.email johndoe@example.com\n",
    "    * git config --global core.editor \"'C:/Program Files (x86)/Notepad++/notepad++.exe'\n",
    "- Remote git server (optional)\n",
    "    * https://github.com/join?source=header-home\n",
    "    * https://bitbucket.org/account/signup/\n",
    "    * https://gitlab.com/users/sign_in"
   ]
  },
  {
   "cell_type": "markdown",
   "metadata": {
    "deletable": true,
    "editable": true
   },
   "source": [
    "## Initialize a local repository"
   ]
  },
  {
   "cell_type": "code",
   "execution_count": 1,
   "metadata": {
    "collapsed": false,
    "deletable": true,
    "editable": true
   },
   "outputs": [
    {
     "name": "stdout",
     "output_type": "stream",
     "text": [
      "Initialized empty Git repository in /private/tmp/TickProject/.git/\n",
      "\u001b[01;34m.\u001b[00m\n",
      "└── \u001b[01;34m.git\u001b[00m\n",
      "    ├── HEAD\n",
      "    ├── config\n",
      "    ├── description\n",
      "    ├── \u001b[01;34mhooks\u001b[00m\n",
      "    │   ├── \u001b[01;32mapplypatch-msg.sample\u001b[00m\n",
      "    │   ├── \u001b[01;32mcommit-msg.sample\u001b[00m\n",
      "    │   ├── \u001b[01;32mpost-update.sample\u001b[00m\n",
      "    │   ├── \u001b[01;32mpre-applypatch.sample\u001b[00m\n",
      "    │   ├── \u001b[01;32mpre-commit.sample\u001b[00m\n",
      "    │   ├── \u001b[01;32mpre-push.sample\u001b[00m\n",
      "    │   ├── \u001b[01;32mpre-rebase.sample\u001b[00m\n",
      "    │   ├── \u001b[01;32mpre-receive.sample\u001b[00m\n",
      "    │   ├── \u001b[01;32mprepare-commit-msg.sample\u001b[00m\n",
      "    │   └── \u001b[01;32mupdate.sample\u001b[00m\n",
      "    ├── \u001b[01;34minfo\u001b[00m\n",
      "    │   └── exclude\n",
      "    ├── \u001b[01;34mobjects\u001b[00m\n",
      "    │   ├── \u001b[01;34minfo\u001b[00m\n",
      "    │   └── \u001b[01;34mpack\u001b[00m\n",
      "    └── \u001b[01;34mrefs\u001b[00m\n",
      "        ├── \u001b[01;34mheads\u001b[00m\n",
      "        └── \u001b[01;34mtags\u001b[00m\n",
      "\n",
      "9 directories, 14 files\n"
     ]
    }
   ],
   "source": [
    "%%bash\n",
    "cd /tmp\n",
    "rm -rf TickProject\n",
    "mkdir TickProject\n",
    "cd TickProject\n",
    "git init\n",
    "tree -aC"
   ]
  },
  {
   "cell_type": "markdown",
   "metadata": {
    "deletable": true,
    "editable": true
   },
   "source": [
    "## Write some code and check status"
   ]
  },
  {
   "cell_type": "code",
   "execution_count": 2,
   "metadata": {
    "collapsed": false,
    "deletable": true,
    "editable": true
   },
   "outputs": [
    {
     "name": "stdout",
     "output_type": "stream",
     "text": [
      "\u001b[01;34m.\u001b[00m\n",
      "└── \u001b[01;34msrc\u001b[00m\n",
      "    ├── KeyTicker.h\n",
      "    ├── TickerInterface.h\n",
      "    └── main.cpp\n",
      "\n",
      "1 directory, 3 files\n",
      "On branch master\n",
      "\n",
      "Initial commit\n",
      "\n",
      "Untracked files:\n",
      "  (use \"git add <file>...\" to include in what will be committed)\n",
      "\n",
      "\tsrc/\n",
      "\n",
      "nothing added to commit but untracked files present (use \"git add\" to track)\n"
     ]
    }
   ],
   "source": [
    "%%bash\n",
    ". quickedit v0.1\n",
    "# git archive --format=tar --prefix=src/ --remote=~/src/maker-presentation $TAG:TickCounter | tar xf -\n",
    "tree -aCI .git\n",
    "git status"
   ]
  },
  {
   "cell_type": "markdown",
   "metadata": {
    "deletable": true,
    "editable": true
   },
   "source": [
    "## Add code to stage area and check status"
   ]
  },
  {
   "cell_type": "code",
   "execution_count": 3,
   "metadata": {
    "collapsed": false,
    "deletable": true,
    "editable": true
   },
   "outputs": [
    {
     "name": "stdout",
     "output_type": "stream",
     "text": [
      "On branch master\n",
      "\n",
      "Initial commit\n",
      "\n",
      "Changes to be committed:\n",
      "  (use \"git rm --cached <file>...\" to unstage)\n",
      "\n",
      "\tnew file:   src/KeyTicker.h\n",
      "\tnew file:   src/TickerInterface.h\n",
      "\tnew file:   src/main.cpp\n",
      "\n"
     ]
    }
   ],
   "source": [
    "%%bash\n",
    "cd /tmp/TickProject\n",
    "git add .\n",
    "git status"
   ]
  },
  {
   "cell_type": "markdown",
   "metadata": {
    "deletable": true,
    "editable": true
   },
   "source": [
    "## Transfer code to local repository"
   ]
  },
  {
   "cell_type": "code",
   "execution_count": 4,
   "metadata": {
    "collapsed": false,
    "deletable": true,
    "editable": true
   },
   "outputs": [
    {
     "name": "stdout",
     "output_type": "stream",
     "text": [
      "[master (root-commit) 6200fa0] Initial revision\n",
      " 3 files changed, 109 insertions(+)\n",
      " create mode 100644 src/KeyTicker.h\n",
      " create mode 100644 src/TickerInterface.h\n",
      " create mode 100644 src/main.cpp\n",
      "On branch master\n",
      "nothing to commit, working tree clean\n"
     ]
    }
   ],
   "source": [
    "%%bash\n",
    "cd /tmp/TickProject\n",
    "git commit -a -m \"Initial revision\"\n",
    "git status"
   ]
  },
  {
   "cell_type": "markdown",
   "metadata": {
    "deletable": true,
    "editable": true
   },
   "source": [
    "## Some Git clients\n",
    "- SourceTree https://www.sourcetreeapp.com\n",
    "- GitKraken https://www.gitkraken.com\n",
    "- TortoiseGit https://tortoisegit.org\n",
    "- Eclipse plugins\n",
    "- XCode builtin"
   ]
  },
  {
   "cell_type": "markdown",
   "metadata": {
    "deletable": true,
    "editable": true
   },
   "source": [
    "## Write some more code (change name of a variable and add a meson.build file)\n",
    "**Use a gui client to see status and commit code**"
   ]
  },
  {
   "cell_type": "code",
   "execution_count": 5,
   "metadata": {
    "collapsed": false,
    "deletable": true,
    "editable": true
   },
   "outputs": [],
   "source": [
    "!. quickedit v0.2"
   ]
  },
  {
   "cell_type": "markdown",
   "metadata": {
    "deletable": true,
    "editable": true
   },
   "source": [
    "## Build and check status\n",
    "- [Meson](http://mesonbuild.com) is a build generating system\n",
    "- [Ninja](https://ninja-build.org) is a small build system with a focus on speed."
   ]
  },
  {
   "cell_type": "code",
   "execution_count": 10,
   "metadata": {
    "collapsed": false,
    "deletable": true,
    "editable": true
   },
   "outputs": [
    {
     "name": "stdout",
     "output_type": "stream",
     "text": [
      "The Meson build system\n",
      "Version: 0.39.1\n",
      "Source dir: /private/tmp/TickProject/src\n",
      "Build dir: /private/tmp/TickProject/build\n",
      "Build type: native build\n",
      "Project name: TickCounterProject\n",
      "Native cpp compiler: c++ (clang 8.1.0)\n",
      "Build machine cpu family: x86_64\n",
      "Build machine cpu: x86_64\n",
      "Dependency threads found: YES\n",
      "Build targets in project: 1\n"
     ]
    }
   ],
   "source": [
    "%%bash\n",
    "cd /tmp/TickProject && rm -rf build\n",
    "meson src build"
   ]
  },
  {
   "cell_type": "code",
   "execution_count": 11,
   "metadata": {
    "collapsed": false,
    "deletable": true,
    "editable": true
   },
   "outputs": [
    {
     "name": "stdout",
     "output_type": "stream",
     "text": [
      "ninja: Entering directory `/tmp/TickProject/build'\n",
      "[1/2] Compiling cpp object 'tickcounter@exe/main.cpp.o'\n",
      "[2/2] Linking target tickcounter\n",
      "clang: warning: argument unused during compilation: '-pthread' [-Wunused-command-line-argument]\n"
     ]
    }
   ],
   "source": [
    "%%bash\n",
    "ninja -C /tmp/TickProject/build"
   ]
  },
  {
   "cell_type": "code",
   "execution_count": 12,
   "metadata": {
    "collapsed": false,
    "deletable": true,
    "editable": true
   },
   "outputs": [
    {
     "name": "stdout",
     "output_type": "stream",
     "text": [
      "On branch master\n",
      "Untracked files:\n",
      "  (use \"git add <file>...\" to include in what will be committed)\n",
      "\n",
      "\tbuild/\n",
      "\n",
      "nothing added to commit but untracked files present (use \"git add\" to track)\n"
     ]
    }
   ],
   "source": [
    "%%bash\n",
    "cd /tmp/TickProject\n",
    "git status"
   ]
  },
  {
   "cell_type": "markdown",
   "metadata": {
    "collapsed": true,
    "deletable": true,
    "editable": true
   },
   "source": [
    "## Instruct Git to ignore build artifacts and other files that shouldn't be version controlled\n",
    "**Add an .gitignore file**\n",
    "There are plenty of examples of .gitignore files on the net and/or use e.g., https://www.gitignore.io"
   ]
  },
  {
   "cell_type": "code",
   "execution_count": 14,
   "metadata": {
    "collapsed": false,
    "deletable": true,
    "editable": true
   },
   "outputs": [
    {
     "name": "stdout",
     "output_type": "stream",
     "text": [
      "On branch master\n",
      "nothing to commit, working tree clean\n"
     ]
    }
   ],
   "source": [
    "%%bash\n",
    "cd /tmp/TickProject\n",
    "git status"
   ]
  },
  {
   "cell_type": "markdown",
   "metadata": {
    "deletable": true,
    "editable": true
   },
   "source": [
    "## Branches, HEAD and tags?"
   ]
  },
  {
   "cell_type": "markdown",
   "metadata": {
    "collapsed": true,
    "deletable": true,
    "editable": true
   },
   "source": [
    "<img src=\"branch-and-history.png\", width=600>"
   ]
  },
  {
   "cell_type": "code",
   "execution_count": 17,
   "metadata": {
    "collapsed": false,
    "deletable": true,
    "editable": true
   },
   "outputs": [
    {
     "name": "stdout",
     "output_type": "stream",
     "text": [
      "* master 06558f1 Added gitignore\n"
     ]
    }
   ],
   "source": [
    "%%bash\n",
    "cd /tmp/TickProject\n",
    "git branch -v"
   ]
  },
  {
   "cell_type": "markdown",
   "metadata": {
    "deletable": true,
    "editable": true
   },
   "source": [
    "**Creating a New Branch**\n",
    "<img src=\"two-branches.png\", width=600>"
   ]
  },
  {
   "cell_type": "markdown",
   "metadata": {
    "deletable": true,
    "editable": true
   },
   "source": [
    "**HEAD pointing to a branch**\n",
    "<img src=\"head-to-master.png\", width=600>"
   ]
  },
  {
   "cell_type": "markdown",
   "metadata": {
    "deletable": true,
    "editable": true
   },
   "source": [
    "**Switching Branch**\n",
    "<img src=\"head-to-testing.png\", width=600>"
   ]
  },
  {
   "cell_type": "markdown",
   "metadata": {
    "deletable": true,
    "editable": true
   },
   "source": [
    "**The HEAD branch moves forward when a commit is made**\n",
    "<img src=\"advance-testing.png\", width=600>"
   ]
  },
  {
   "cell_type": "markdown",
   "metadata": {
    "deletable": true,
    "editable": true
   },
   "source": [
    "**HEAD moves when you checkout**\n",
    "<img src=\"checkout-master.png\", width=600>"
   ]
  },
  {
   "cell_type": "markdown",
   "metadata": {
    "deletable": true,
    "editable": true
   },
   "source": [
    "## Branching models\n",
    "**Git-flow**\n",
    "http://nvie.com/posts/a-successful-git-branching-model/\n",
    "<img src=\"Git-branching-model.pdf\", width=600>\n",
    "\n",
    "**Cactus**\n",
    "https://barro.github.io/2016/02/a-succesful-git-branching-model-considered-harmful/\n",
    "<img src=\"cactus-model-200.png\", width=200>\n",
    "\n",
    "**BBC News**\n",
    "http://www.integralist.co.uk/posts/github-workflow.html\n",
    "\n",
    "**Git Pro book**\n",
    "https://git-scm.com/book/en/v2/Git-Branching-Branching-Workflows"
   ]
  },
  {
   "cell_type": "markdown",
   "metadata": {
    "deletable": true,
    "editable": true
   },
   "source": [
    "## Third party package usage strategies\n",
    "- Package Manager\n",
    "    + Homebrew\n",
    "    + Nuget\n",
    "    + apt-get\n",
    "- Git submodules / subtrees\n",
    "    + Qt\n",
    "    + <img src=\"submodules.jpg\" width=300>\n",
    "- In source\n",
    "- Separate repositories (pkg-config)"
   ]
  },
  {
   "cell_type": "markdown",
   "metadata": {
    "deletable": true,
    "editable": true
   },
   "source": [
    "## Add better logging support to our TickCounter project \n",
    "**Let's use the 3rd party spdlog package as a separate repository and try it out in a logging feature branch**\n",
    "\n",
    "https://github.com/gabime/spdlog.git"
   ]
  },
  {
   "cell_type": "markdown",
   "metadata": {
    "deletable": true,
    "editable": true
   },
   "source": [
    "### Get the spdlog repo"
   ]
  },
  {
   "cell_type": "code",
   "execution_count": 18,
   "metadata": {
    "collapsed": false,
    "deletable": true,
    "editable": true
   },
   "outputs": [
    {
     "name": "stderr",
     "output_type": "stream",
     "text": [
      "Cloning into 'spdlog'...\n"
     ]
    }
   ],
   "source": [
    "%%bash\n",
    "cd /tmp\n",
    "rm -rf spdlog\n",
    "rm -rf 3rd/spdlog\n",
    "git clone https://github.com/gabime/spdlog.git spdlog"
   ]
  },
  {
   "cell_type": "code",
   "execution_count": 19,
   "metadata": {
    "collapsed": false,
    "deletable": true,
    "editable": true
   },
   "outputs": [
    {
     "name": "stdout",
     "output_type": "stream",
     "text": [
      "total 24\n",
      "-rw-r--r--   1 tommy  wheel  2418 Apr 24 23:03 CMakeLists.txt\n",
      "-rw-r--r--   1 tommy  wheel   323 Apr 24 23:03 INSTALL\n",
      "-rw-r--r--   1 tommy  wheel  1142 Apr 24 23:03 LICENSE\n",
      "-rw-r--r--   1 tommy  wheel  7654 Apr 24 23:03 README.md\n",
      "-rwxr-xr-x   1 tommy  wheel   129 Apr 24 23:03 astyle.sh\n",
      "drwxr-xr-x  19 tommy  wheel   646 Apr 24 23:03 bench\n",
      "drwxr-xr-x   4 tommy  wheel   136 Apr 24 23:03 cmake\n",
      "drwxr-xr-x  14 tommy  wheel   476 Apr 24 23:03 example\n",
      "drwxr-xr-x   3 tommy  wheel   102 Apr 24 23:03 include\n",
      "drwxr-xr-x  18 tommy  wheel   612 Apr 24 23:03 tests\n"
     ]
    }
   ],
   "source": [
    "%%bash\n",
    "cd /tmp/spdlog\n",
    "ls -l"
   ]
  },
  {
   "cell_type": "markdown",
   "metadata": {
    "deletable": true,
    "editable": true
   },
   "source": [
    "**CMake is used in spdlog! A commonly used build preparing tool.**\n",
    "\n",
    "### Build and install spdlog\n",
    "\n",
    "Try it out in cmake gui <img src=\"cmake.png\" width=600>"
   ]
  },
  {
   "cell_type": "code",
   "execution_count": 20,
   "metadata": {
    "collapsed": false,
    "deletable": true,
    "editable": true
   },
   "outputs": [
    {
     "name": "stdout",
     "output_type": "stream",
     "text": [
      "total 32\n",
      "-rw-r--r--   1 tommy  wheel  16756 Apr 24 23:07 CMakeCache.txt\n",
      "drwxr-xr-x  11 tommy  wheel    374 Apr 24 23:07 CMakeFiles\n",
      "drwxr-xr-x  35 tommy  wheel   1190 Apr 24 23:07 CMakeScripts\n",
      "-rw-r--r--   1 tommy  wheel    258 Apr 24 23:07 CTestTestfile.cmake\n",
      "-rw-r--r--   1 tommy  wheel   2776 Apr 24 23:06 DartConfiguration.tcl\n",
      "drwxr-xr-x   3 tommy  wheel    102 Apr 24 23:06 Testing\n",
      "-rw-r--r--   1 tommy  wheel   2698 Apr 24 23:07 cmake_install.cmake\n",
      "drwxr-xr-x   5 tommy  wheel    170 Apr 24 23:07 generated\n",
      "drwxr-xr-x   3 tommy  wheel    102 Apr 24 23:07 spdlog.xcodeproj\n",
      "drwxr-xr-x   6 tommy  wheel    204 Apr 24 23:07 tests\n"
     ]
    }
   ],
   "source": [
    "%%bash\n",
    "cd /tmp/spdlog-build\n",
    "ls -l"
   ]
  },
  {
   "cell_type": "code",
   "execution_count": 21,
   "metadata": {
    "collapsed": false,
    "deletable": true,
    "editable": true
   },
   "outputs": [
    {
     "name": "stdout",
     "output_type": "stream",
     "text": [
      "=== BUILD AGGREGATE TARGET ZERO_CHECK OF PROJECT spdlog WITH CONFIGURATION Release ===\n",
      "\n",
      "Check dependencies\n",
      "\n",
      "Write auxiliary files\n",
      "write-file /tmp/spdlog-build/spdlog.build/Release/ZERO_CHECK.build/Script-1674235CFE2D43038BB7E789.sh\n",
      "chmod 0755 /tmp/spdlog-build/spdlog.build/Release/ZERO_CHECK.build/Script-1674235CFE2D43038BB7E789.sh\n",
      "\n",
      "PhaseScriptExecution CMake\\ Rules /tmp/spdlog-build/spdlog.build/Release/ZERO_CHECK.build/Script-1674235CFE2D43038BB7E789.sh\n",
      "    cd /tmp/spdlog\n",
      "    /bin/sh -c /tmp/spdlog-build/spdlog.build/Release/ZERO_CHECK.build/Script-1674235CFE2D43038BB7E789.sh\n",
      "echo \"\"\n",
      "\n",
      "make -f /tmp/spdlog-build/CMakeScripts/ReRunCMake.make\n",
      "make[1]: `/private/tmp/spdlog-build/CMakeFiles/cmake.check_cache' is up to date.\n",
      "\n",
      "=== BUILD TARGET catch_tests OF PROJECT spdlog WITH CONFIGURATION Release ===\n",
      "\n",
      "Check dependencies\n",
      "\n",
      "Write auxiliary files\n",
      "/bin/mkdir -p /tmp/spdlog-build/tests/spdlog.build/Release/catch_tests.build/Objects-normal/x86_64\n",
      "write-file /tmp/spdlog-build/tests/spdlog.build/Release/catch_tests.build/Objects-normal/x86_64/catch_tests.LinkFileList\n",
      "\n",
      "CompileC /tmp/spdlog-build/tests/spdlog.build/Release/catch_tests.build/Objects-normal/x86_64/errors.o tests/errors.cpp normal x86_64 c++ com.apple.compilers.llvm.clang.1_0.compiler\n",
      "    cd /tmp/spdlog\n",
      "    export LANG=en_US.US-ASCII\n",
      "    /Applications/Xcode.app/Contents/Developer/Toolchains/XcodeDefault.xctoolchain/usr/bin/clang -x c++ -arch x86_64 -fmessage-length=0 -fdiagnostics-show-note-include-stack -fmacro-backtrace-limit=0 -Wno-trigraphs -fpascal-strings -O3 -Wno-missing-field-initializers -Wno-missing-prototypes -Wno-return-type -Wno-non-virtual-dtor -Wno-overloaded-virtual -Wno-exit-time-destructors -Wno-missing-braces -Wparentheses -Wswitch -Wno-unused-function -Wno-unused-label -Wno-unused-parameter -Wno-unused-variable -Wunused-value -Wno-empty-body -Wno-uninitialized -Wno-unknown-pragmas -Wno-shadow -Wno-four-char-constants -Wno-conversion -Wno-constant-conversion -Wno-int-conversion -Wno-bool-conversion -Wno-enum-conversion -Wno-shorten-64-to-32 -Wno-newline-eof -Wno-c++11-extensions -DCMAKE_INTDIR=\\\"Release\\\" -isysroot /Applications/Xcode.app/Contents/Developer/Platforms/MacOSX.platform/Developer/SDKs/MacOSX10.12.sdk -fasm-blocks -fstrict-aliasing -Wdeprecated-declarations -Winvalid-offsetof -mmacosx-version-min=10.12 -Wno-sign-conversion -Wno-infinite-recursion -Wno-move -I/tmp/spdlog-build/tests/Release/include -I/tmp/spdlog/include -I/tmp/spdlog-build/tests/spdlog.build/Release/catch_tests.build/DerivedSources/x86_64 -I/tmp/spdlog-build/tests/spdlog.build/Release/catch_tests.build/DerivedSources -Wmost -Wno-four-char-constants -Wno-unknown-pragmas -F/tmp/spdlog-build/tests/Release -Wall -DNDEBUG -std=gnu++11 -MMD -MT dependencies -MF /tmp/spdlog-build/tests/spdlog.build/Release/catch_tests.build/Objects-normal/x86_64/errors.d --serialize-diagnostics /tmp/spdlog-build/tests/spdlog.build/Release/catch_tests.build/Objects-normal/x86_64/errors.dia -c /tmp/spdlog/tests/errors.cpp -o /tmp/spdlog-build/tests/spdlog.build/Release/catch_tests.build/Objects-normal/x86_64/errors.o\n",
      "/tmp/spdlog/tests/errors.cpp:18:10: warning: 'flush' overrides a member function but is not marked 'override' [-Winconsistent-missing-override]\n",
      "    void flush()\n",
      "         ^\n",
      "In file included from /tmp/spdlog/tests/errors.cpp:4:\n",
      "In file included from /tmp/spdlog/tests/includes.h:13:\n",
      "In file included from /tmp/spdlog/include/spdlog/spdlog.h:14:\n",
      "In file included from /tmp/spdlog/include/spdlog/logger.h:15:\n",
      "In file included from /tmp/spdlog/include/spdlog/sinks/base_sink.h:13:\n",
      "/tmp/spdlog/include/spdlog/sinks/sink.h:25:18: note: overridden virtual function is here\n",
      "    virtual void flush() = 0;\n",
      "                 ^\n",
      "1 warning generated.\n",
      "\n",
      "CompileC /tmp/spdlog-build/tests/spdlog.build/Release/catch_tests.build/Objects-normal/x86_64/file_helper.o tests/file_helper.cpp normal x86_64 c++ com.apple.compilers.llvm.clang.1_0.compiler\n",
      "    cd /tmp/spdlog\n",
      "    export LANG=en_US.US-ASCII\n",
      "    /Applications/Xcode.app/Contents/Developer/Toolchains/XcodeDefault.xctoolchain/usr/bin/clang -x c++ -arch x86_64 -fmessage-length=0 -fdiagnostics-show-note-include-stack -fmacro-backtrace-limit=0 -Wno-trigraphs -fpascal-strings -O3 -Wno-missing-field-initializers -Wno-missing-prototypes -Wno-return-type -Wno-non-virtual-dtor -Wno-overloaded-virtual -Wno-exit-time-destructors -Wno-missing-braces -Wparentheses -Wswitch -Wno-unused-function -Wno-unused-label -Wno-unused-parameter -Wno-unused-variable -Wunused-value -Wno-empty-body -Wno-uninitialized -Wno-unknown-pragmas -Wno-shadow -Wno-four-char-constants -Wno-conversion -Wno-constant-conversion -Wno-int-conversion -Wno-bool-conversion -Wno-enum-conversion -Wno-shorten-64-to-32 -Wno-newline-eof -Wno-c++11-extensions -DCMAKE_INTDIR=\\\"Release\\\" -isysroot /Applications/Xcode.app/Contents/Developer/Platforms/MacOSX.platform/Developer/SDKs/MacOSX10.12.sdk -fasm-blocks -fstrict-aliasing -Wdeprecated-declarations -Winvalid-offsetof -mmacosx-version-min=10.12 -Wno-sign-conversion -Wno-infinite-recursion -Wno-move -I/tmp/spdlog-build/tests/Release/include -I/tmp/spdlog/include -I/tmp/spdlog-build/tests/spdlog.build/Release/catch_tests.build/DerivedSources/x86_64 -I/tmp/spdlog-build/tests/spdlog.build/Release/catch_tests.build/DerivedSources -Wmost -Wno-four-char-constants -Wno-unknown-pragmas -F/tmp/spdlog-build/tests/Release -Wall -DNDEBUG -std=gnu++11 -MMD -MT dependencies -MF /tmp/spdlog-build/tests/spdlog.build/Release/catch_tests.build/Objects-normal/x86_64/file_helper.d --serialize-diagnostics /tmp/spdlog-build/tests/spdlog.build/Release/catch_tests.build/Objects-normal/x86_64/file_helper.dia -c /tmp/spdlog/tests/file_helper.cpp -o /tmp/spdlog-build/tests/spdlog.build/Release/catch_tests.build/Objects-normal/x86_64/file_helper.o\n",
      "\n",
      "CompileC /tmp/spdlog-build/tests/spdlog.build/Release/catch_tests.build/Objects-normal/x86_64/file_log.o tests/file_log.cpp normal x86_64 c++ com.apple.compilers.llvm.clang.1_0.compiler\n",
      "    cd /tmp/spdlog\n",
      "    export LANG=en_US.US-ASCII\n",
      "    /Applications/Xcode.app/Contents/Developer/Toolchains/XcodeDefault.xctoolchain/usr/bin/clang -x c++ -arch x86_64 -fmessage-length=0 -fdiagnostics-show-note-include-stack -fmacro-backtrace-limit=0 -Wno-trigraphs -fpascal-strings -O3 -Wno-missing-field-initializers -Wno-missing-prototypes -Wno-return-type -Wno-non-virtual-dtor -Wno-overloaded-virtual -Wno-exit-time-destructors -Wno-missing-braces -Wparentheses -Wswitch -Wno-unused-function -Wno-unused-label -Wno-unused-parameter -Wno-unused-variable -Wunused-value -Wno-empty-body -Wno-uninitialized -Wno-unknown-pragmas -Wno-shadow -Wno-four-char-constants -Wno-conversion -Wno-constant-conversion -Wno-int-conversion -Wno-bool-conversion -Wno-enum-conversion -Wno-shorten-64-to-32 -Wno-newline-eof -Wno-c++11-extensions -DCMAKE_INTDIR=\\\"Release\\\" -isysroot /Applications/Xcode.app/Contents/Developer/Platforms/MacOSX.platform/Developer/SDKs/MacOSX10.12.sdk -fasm-blocks -fstrict-aliasing -Wdeprecated-declarations -Winvalid-offsetof -mmacosx-version-min=10.12 -Wno-sign-conversion -Wno-infinite-recursion -Wno-move -I/tmp/spdlog-build/tests/Release/include -I/tmp/spdlog/include -I/tmp/spdlog-build/tests/spdlog.build/Release/catch_tests.build/DerivedSources/x86_64 -I/tmp/spdlog-build/tests/spdlog.build/Release/catch_tests.build/DerivedSources -Wmost -Wno-four-char-constants -Wno-unknown-pragmas -F/tmp/spdlog-build/tests/Release -Wall -DNDEBUG -std=gnu++11 -MMD -MT dependencies -MF /tmp/spdlog-build/tests/spdlog.build/Release/catch_tests.build/Objects-normal/x86_64/file_log.d --serialize-diagnostics /tmp/spdlog-build/tests/spdlog.build/Release/catch_tests.build/Objects-normal/x86_64/file_log.dia -c /tmp/spdlog/tests/file_log.cpp -o /tmp/spdlog-build/tests/spdlog.build/Release/catch_tests.build/Objects-normal/x86_64/file_log.o\n",
      "\n",
      "CompileC /tmp/spdlog-build/tests/spdlog.build/Release/catch_tests.build/Objects-normal/x86_64/format.o tests/format.cpp normal x86_64 c++ com.apple.compilers.llvm.clang.1_0.compiler\n",
      "    cd /tmp/spdlog\n",
      "    export LANG=en_US.US-ASCII\n",
      "    /Applications/Xcode.app/Contents/Developer/Toolchains/XcodeDefault.xctoolchain/usr/bin/clang -x c++ -arch x86_64 -fmessage-length=0 -fdiagnostics-show-note-include-stack -fmacro-backtrace-limit=0 -Wno-trigraphs -fpascal-strings -O3 -Wno-missing-field-initializers -Wno-missing-prototypes -Wno-return-type -Wno-non-virtual-dtor -Wno-overloaded-virtual -Wno-exit-time-destructors -Wno-missing-braces -Wparentheses -Wswitch -Wno-unused-function -Wno-unused-label -Wno-unused-parameter -Wno-unused-variable -Wunused-value -Wno-empty-body -Wno-uninitialized -Wno-unknown-pragmas -Wno-shadow -Wno-four-char-constants -Wno-conversion -Wno-constant-conversion -Wno-int-conversion -Wno-bool-conversion -Wno-enum-conversion -Wno-shorten-64-to-32 -Wno-newline-eof -Wno-c++11-extensions -DCMAKE_INTDIR=\\\"Release\\\" -isysroot /Applications/Xcode.app/Contents/Developer/Platforms/MacOSX.platform/Developer/SDKs/MacOSX10.12.sdk -fasm-blocks -fstrict-aliasing -Wdeprecated-declarations -Winvalid-offsetof -mmacosx-version-min=10.12 -Wno-sign-conversion -Wno-infinite-recursion -Wno-move -I/tmp/spdlog-build/tests/Release/include -I/tmp/spdlog/include -I/tmp/spdlog-build/tests/spdlog.build/Release/catch_tests.build/DerivedSources/x86_64 -I/tmp/spdlog-build/tests/spdlog.build/Release/catch_tests.build/DerivedSources -Wmost -Wno-four-char-constants -Wno-unknown-pragmas -F/tmp/spdlog-build/tests/Release -Wall -DNDEBUG -std=gnu++11 -MMD -MT dependencies -MF /tmp/spdlog-build/tests/spdlog.build/Release/catch_tests.build/Objects-normal/x86_64/format.d --serialize-diagnostics /tmp/spdlog-build/tests/spdlog.build/Release/catch_tests.build/Objects-normal/x86_64/format.dia -c /tmp/spdlog/tests/format.cpp -o /tmp/spdlog-build/tests/spdlog.build/Release/catch_tests.build/Objects-normal/x86_64/format.o\n",
      "\n",
      "CompileC /tmp/spdlog-build/tests/spdlog.build/Release/catch_tests.build/Objects-normal/x86_64/main.o tests/main.cpp normal x86_64 c++ com.apple.compilers.llvm.clang.1_0.compiler\n",
      "    cd /tmp/spdlog\n",
      "    export LANG=en_US.US-ASCII\n",
      "    /Applications/Xcode.app/Contents/Developer/Toolchains/XcodeDefault.xctoolchain/usr/bin/clang -x c++ -arch x86_64 -fmessage-length=0 -fdiagnostics-show-note-include-stack -fmacro-backtrace-limit=0 -Wno-trigraphs -fpascal-strings -O3 -Wno-missing-field-initializers -Wno-missing-prototypes -Wno-return-type -Wno-non-virtual-dtor -Wno-overloaded-virtual -Wno-exit-time-destructors -Wno-missing-braces -Wparentheses -Wswitch -Wno-unused-function -Wno-unused-label -Wno-unused-parameter -Wno-unused-variable -Wunused-value -Wno-empty-body -Wno-uninitialized -Wno-unknown-pragmas -Wno-shadow -Wno-four-char-constants -Wno-conversion -Wno-constant-conversion -Wno-int-conversion -Wno-bool-conversion -Wno-enum-conversion -Wno-shorten-64-to-32 -Wno-newline-eof -Wno-c++11-extensions -DCMAKE_INTDIR=\\\"Release\\\" -isysroot /Applications/Xcode.app/Contents/Developer/Platforms/MacOSX.platform/Developer/SDKs/MacOSX10.12.sdk -fasm-blocks -fstrict-aliasing -Wdeprecated-declarations -Winvalid-offsetof -mmacosx-version-min=10.12 -Wno-sign-conversion -Wno-infinite-recursion -Wno-move -I/tmp/spdlog-build/tests/Release/include -I/tmp/spdlog/include -I/tmp/spdlog-build/tests/spdlog.build/Release/catch_tests.build/DerivedSources/x86_64 -I/tmp/spdlog-build/tests/spdlog.build/Release/catch_tests.build/DerivedSources -Wmost -Wno-four-char-constants -Wno-unknown-pragmas -F/tmp/spdlog-build/tests/Release -Wall -DNDEBUG -std=gnu++11 -MMD -MT dependencies -MF /tmp/spdlog-build/tests/spdlog.build/Release/catch_tests.build/Objects-normal/x86_64/main.d --serialize-diagnostics /tmp/spdlog-build/tests/spdlog.build/Release/catch_tests.build/Objects-normal/x86_64/main.dia -c /tmp/spdlog/tests/main.cpp -o /tmp/spdlog-build/tests/spdlog.build/Release/catch_tests.build/Objects-normal/x86_64/main.o\n",
      "\n",
      "CompileC /tmp/spdlog-build/tests/spdlog.build/Release/catch_tests.build/Objects-normal/x86_64/registry.o tests/registry.cpp normal x86_64 c++ com.apple.compilers.llvm.clang.1_0.compiler\n",
      "    cd /tmp/spdlog\n",
      "    export LANG=en_US.US-ASCII\n",
      "    /Applications/Xcode.app/Contents/Developer/Toolchains/XcodeDefault.xctoolchain/usr/bin/clang -x c++ -arch x86_64 -fmessage-length=0 -fdiagnostics-show-note-include-stack -fmacro-backtrace-limit=0 -Wno-trigraphs -fpascal-strings -O3 -Wno-missing-field-initializers -Wno-missing-prototypes -Wno-return-type -Wno-non-virtual-dtor -Wno-overloaded-virtual -Wno-exit-time-destructors -Wno-missing-braces -Wparentheses -Wswitch -Wno-unused-function -Wno-unused-label -Wno-unused-parameter -Wno-unused-variable -Wunused-value -Wno-empty-body -Wno-uninitialized -Wno-unknown-pragmas -Wno-shadow -Wno-four-char-constants -Wno-conversion -Wno-constant-conversion -Wno-int-conversion -Wno-bool-conversion -Wno-enum-conversion -Wno-shorten-64-to-32 -Wno-newline-eof -Wno-c++11-extensions -DCMAKE_INTDIR=\\\"Release\\\" -isysroot /Applications/Xcode.app/Contents/Developer/Platforms/MacOSX.platform/Developer/SDKs/MacOSX10.12.sdk -fasm-blocks -fstrict-aliasing -Wdeprecated-declarations -Winvalid-offsetof -mmacosx-version-min=10.12 -Wno-sign-conversion -Wno-infinite-recursion -Wno-move -I/tmp/spdlog-build/tests/Release/include -I/tmp/spdlog/include -I/tmp/spdlog-build/tests/spdlog.build/Release/catch_tests.build/DerivedSources/x86_64 -I/tmp/spdlog-build/tests/spdlog.build/Release/catch_tests.build/DerivedSources -Wmost -Wno-four-char-constants -Wno-unknown-pragmas -F/tmp/spdlog-build/tests/Release -Wall -DNDEBUG -std=gnu++11 -MMD -MT dependencies -MF /tmp/spdlog-build/tests/spdlog.build/Release/catch_tests.build/Objects-normal/x86_64/registry.d --serialize-diagnostics /tmp/spdlog-build/tests/spdlog.build/Release/catch_tests.build/Objects-normal/x86_64/registry.dia -c /tmp/spdlog/tests/registry.cpp -o /tmp/spdlog-build/tests/spdlog.build/Release/catch_tests.build/Objects-normal/x86_64/registry.o\n",
      "\n",
      "CompileC /tmp/spdlog-build/tests/spdlog.build/Release/catch_tests.build/Objects-normal/x86_64/utils.o tests/utils.cpp normal x86_64 c++ com.apple.compilers.llvm.clang.1_0.compiler\n",
      "    cd /tmp/spdlog\n",
      "    export LANG=en_US.US-ASCII\n",
      "    /Applications/Xcode.app/Contents/Developer/Toolchains/XcodeDefault.xctoolchain/usr/bin/clang -x c++ -arch x86_64 -fmessage-length=0 -fdiagnostics-show-note-include-stack -fmacro-backtrace-limit=0 -Wno-trigraphs -fpascal-strings -O3 -Wno-missing-field-initializers -Wno-missing-prototypes -Wno-return-type -Wno-non-virtual-dtor -Wno-overloaded-virtual -Wno-exit-time-destructors -Wno-missing-braces -Wparentheses -Wswitch -Wno-unused-function -Wno-unused-label -Wno-unused-parameter -Wno-unused-variable -Wunused-value -Wno-empty-body -Wno-uninitialized -Wno-unknown-pragmas -Wno-shadow -Wno-four-char-constants -Wno-conversion -Wno-constant-conversion -Wno-int-conversion -Wno-bool-conversion -Wno-enum-conversion -Wno-shorten-64-to-32 -Wno-newline-eof -Wno-c++11-extensions -DCMAKE_INTDIR=\\\"Release\\\" -isysroot /Applications/Xcode.app/Contents/Developer/Platforms/MacOSX.platform/Developer/SDKs/MacOSX10.12.sdk -fasm-blocks -fstrict-aliasing -Wdeprecated-declarations -Winvalid-offsetof -mmacosx-version-min=10.12 -Wno-sign-conversion -Wno-infinite-recursion -Wno-move -I/tmp/spdlog-build/tests/Release/include -I/tmp/spdlog/include -I/tmp/spdlog-build/tests/spdlog.build/Release/catch_tests.build/DerivedSources/x86_64 -I/tmp/spdlog-build/tests/spdlog.build/Release/catch_tests.build/DerivedSources -Wmost -Wno-four-char-constants -Wno-unknown-pragmas -F/tmp/spdlog-build/tests/Release -Wall -DNDEBUG -std=gnu++11 -MMD -MT dependencies -MF /tmp/spdlog-build/tests/spdlog.build/Release/catch_tests.build/Objects-normal/x86_64/utils.d --serialize-diagnostics /tmp/spdlog-build/tests/spdlog.build/Release/catch_tests.build/Objects-normal/x86_64/utils.dia -c /tmp/spdlog/tests/utils.cpp -o /tmp/spdlog-build/tests/spdlog.build/Release/catch_tests.build/Objects-normal/x86_64/utils.o\n",
      "\n",
      "Ld /tmp/spdlog-build/tests/Release/catch_tests normal x86_64\n",
      "    cd /tmp/spdlog\n",
      "    export MACOSX_DEPLOYMENT_TARGET=10.12\n",
      "    /Applications/Xcode.app/Contents/Developer/Toolchains/XcodeDefault.xctoolchain/usr/bin/clang++ -arch x86_64 -isysroot /Applications/Xcode.app/Contents/Developer/Platforms/MacOSX.platform/Developer/SDKs/MacOSX10.12.sdk -L/tmp/spdlog-build/tests/Release -F/tmp/spdlog-build/tests/Release -filelist /tmp/spdlog-build/tests/spdlog.build/Release/catch_tests.build/Objects-normal/x86_64/catch_tests.LinkFileList -mmacosx-version-min=10.12 -Wl,-search_paths_first -Wl,-headerpad_max_install_names -Xlinker -dependency_info -Xlinker /tmp/spdlog-build/tests/spdlog.build/Release/catch_tests.build/Objects-normal/x86_64/catch_tests_dependency_info.dat -o /tmp/spdlog-build/tests/Release/catch_tests\n",
      "\n",
      "=== BUILD AGGREGATE TARGET ALL_BUILD OF PROJECT spdlog WITH CONFIGURATION Release ===\n",
      "\n",
      "Check dependencies\n",
      "\n",
      "Write auxiliary files\n",
      "write-file /tmp/spdlog-build/spdlog.build/Release/ALL_BUILD.build/Script-B9D3647E04D546D3834C3B76.sh\n",
      "chmod 0755 /tmp/spdlog-build/spdlog.build/Release/ALL_BUILD.build/Script-B9D3647E04D546D3834C3B76.sh\n",
      "\n",
      "PhaseScriptExecution CMake\\ Rules /tmp/spdlog-build/spdlog.build/Release/ALL_BUILD.build/Script-B9D3647E04D546D3834C3B76.sh\n",
      "    cd /tmp/spdlog\n",
      "    /bin/sh -c /tmp/spdlog-build/spdlog.build/Release/ALL_BUILD.build/Script-B9D3647E04D546D3834C3B76.sh\n",
      "echo \"\"\n",
      "\n",
      "echo Build\\ all\\ projects\n",
      "Build all projects\n",
      "\n",
      "=== BUILD AGGREGATE TARGET install OF PROJECT spdlog WITH CONFIGURATION Release ===\n",
      "\n",
      "Check dependencies\n",
      "\n",
      "Write auxiliary files\n",
      "write-file /tmp/spdlog-build/spdlog.build/Release/install.build/Script-6A33E1F6E2854F77ABD88BAE.sh\n",
      "chmod 0755 /tmp/spdlog-build/spdlog.build/Release/install.build/Script-6A33E1F6E2854F77ABD88BAE.sh\n",
      "\n",
      "PhaseScriptExecution CMake\\ PostBuild\\ Rules /tmp/spdlog-build/spdlog.build/Release/install.build/Script-6A33E1F6E2854F77ABD88BAE.sh\n",
      "    cd /tmp/spdlog\n",
      "    /bin/sh -c /tmp/spdlog-build/spdlog.build/Release/install.build/Script-6A33E1F6E2854F77ABD88BAE.sh\n",
      "/Applications/CMake.app/Contents/bin/cmake -DBUILD_TYPE=Release -P cmake_install.cmake\n",
      "-- Install configuration: \"Release\"\n",
      "-- Installing: /tmp/3rd/include/spdlog\n",
      "-- Installing: /tmp/3rd/include/spdlog/async_logger.h\n",
      "-- Installing: /tmp/3rd/include/spdlog/common.h\n",
      "-- Installing: /tmp/3rd/include/spdlog/details\n",
      "-- Installing: /tmp/3rd/include/spdlog/details/async_log_helper.h\n",
      "-- Installing: /tmp/3rd/include/spdlog/details/async_logger_impl.h\n",
      "-- Installing: /tmp/3rd/include/spdlog/details/file_helper.h\n",
      "-- Installing: /tmp/3rd/include/spdlog/details/log_msg.h\n",
      "-- Installing: /tmp/3rd/include/spdlog/details/logger_impl.h\n",
      "-- Installing: /tmp/3rd/include/spdlog/details/mpmc_bounded_q.h\n",
      "-- Installing: /tmp/3rd/include/spdlog/details/null_mutex.h\n",
      "-- Installing: /tmp/3rd/include/spdlog/details/os.h\n",
      "-- Installing: /tmp/3rd/include/spdlog/details/pattern_formatter_impl.h\n",
      "-- Installing: /tmp/3rd/include/spdlog/details/registry.h\n",
      "-- Installing: /tmp/3rd/include/spdlog/details/spdlog_impl.h\n",
      "-- Installing: /tmp/3rd/include/spdlog/fmt\n",
      "-- Installing: /tmp/3rd/include/spdlog/fmt/bundled\n",
      "-- Installing: /tmp/3rd/include/spdlog/fmt/bundled/format.cc\n",
      "-- Installing: /tmp/3rd/include/spdlog/fmt/bundled/format.h\n",
      "-- Installing: /tmp/3rd/include/spdlog/fmt/bundled/ostream.cc\n",
      "-- Installing: /tmp/3rd/include/spdlog/fmt/bundled/ostream.h\n",
      "-- Installing: /tmp/3rd/include/spdlog/fmt/bundled/posix.cc\n",
      "-- Installing: /tmp/3rd/include/spdlog/fmt/bundled/posix.h\n",
      "-- Installing: /tmp/3rd/include/spdlog/fmt/bundled/time.h\n",
      "-- Installing: /tmp/3rd/include/spdlog/fmt/fmt.h\n",
      "-- Installing: /tmp/3rd/include/spdlog/fmt/ostr.h\n",
      "-- Installing: /tmp/3rd/include/spdlog/formatter.h\n",
      "-- Installing: /tmp/3rd/include/spdlog/logger.h\n",
      "-- Installing: /tmp/3rd/include/spdlog/sinks\n",
      "-- Installing: /tmp/3rd/include/spdlog/sinks/android_sink.h\n",
      "-- Installing: /tmp/3rd/include/spdlog/sinks/ansicolor_sink.h\n",
      "-- Installing: /tmp/3rd/include/spdlog/sinks/base_sink.h\n",
      "-- Installing: /tmp/3rd/include/spdlog/sinks/dist_sink.h\n",
      "-- Installing: /tmp/3rd/include/spdlog/sinks/file_sinks.h\n",
      "-- Installing: /tmp/3rd/include/spdlog/sinks/msvc_sink.h\n",
      "-- Installing: /tmp/3rd/include/spdlog/sinks/null_sink.h\n",
      "-- Installing: /tmp/3rd/include/spdlog/sinks/ostream_sink.h\n",
      "-- Installing: /tmp/3rd/include/spdlog/sinks/sink.h\n",
      "-- Installing: /tmp/3rd/include/spdlog/sinks/stdout_sinks.h\n",
      "-- Installing: /tmp/3rd/include/spdlog/sinks/syslog_sink.h\n",
      "-- Installing: /tmp/3rd/include/spdlog/sinks/wincolor_sink.h\n",
      "-- Installing: /tmp/3rd/include/spdlog/spdlog.h\n",
      "-- Installing: /tmp/3rd/include/spdlog/tweakme.h\n",
      "-- Installing: /tmp/3rd/lib/cmake/spdlog/spdlogConfig.cmake\n",
      "-- Installing: /tmp/3rd/lib/cmake/spdlog/spdlogConfigVersion.cmake\n",
      "-- Installing: /tmp/3rd/lib/pkgconfig/spdlog.pc\n",
      "-- Installing: /tmp/3rd/lib/cmake/spdlog/spdlogTargets.cmake\n",
      "\n",
      "** BUILD SUCCEEDED **\n",
      "\n"
     ]
    }
   ],
   "source": [
    "%%bash\n",
    "cd /tmp/spdlog-build\n",
    "xcodebuild -configuration Release -target install"
   ]
  },
  {
   "cell_type": "markdown",
   "metadata": {
    "deletable": true,
    "editable": true
   },
   "source": [
    "**Notice the installed .cmake files and spdlog.pc**\n",
    "+ .cmake - Facilitates to use this package from other CMake projects\n",
    "+ spdlog.pc - Facilitates to use this package from other projects using the pkg-config utility"
   ]
  },
  {
   "cell_type": "markdown",
   "metadata": {
    "deletable": true,
    "editable": true
   },
   "source": [
    "### Introduce spdlog in TickCounter project\n",
    "\n",
    "Use a new branch and name it \"logger\"."
   ]
  },
  {
   "cell_type": "code",
   "execution_count": 22,
   "metadata": {
    "collapsed": false,
    "deletable": true,
    "editable": true
   },
   "outputs": [
    {
     "name": "stderr",
     "output_type": "stream",
     "text": [
      "Switched to a new branch 'logging'\n"
     ]
    }
   ],
   "source": [
    "%%bash\n",
    "cd /tmp/TickProject\n",
    "\n",
    "git checkout -b logging\n",
    "\n",
    "# git branch logging\n",
    "# git checkout logging"
   ]
  },
  {
   "cell_type": "markdown",
   "metadata": {
    "deletable": true,
    "editable": true
   },
   "source": [
    "### Add some code using spdlog and fix build system"
   ]
  },
  {
   "cell_type": "code",
   "execution_count": 23,
   "metadata": {
    "collapsed": false,
    "deletable": true,
    "editable": true
   },
   "outputs": [
    {
     "name": "stdout",
     "output_type": "stream",
     "text": [
      "[logging 90ce0d6] Fixed Log4\n",
      " 2 files changed, 18 insertions(+), 11 deletions(-)\n",
      "[logging c9fd248] Fixed Log5\n",
      " 2 files changed, 11 insertions(+), 5 deletions(-)\n",
      "[logging 5bd5152] Fixed Log6\n",
      " 2 files changed, 8 insertions(+), 12 deletions(-)\n",
      "commit 5bd51523e8feb0f02a0280be0b9fc96e190f307f\n",
      "Author: Tommy Carlsson <topcatse@yahoo.se>\n",
      "Date:   Mon Apr 24 23:14:00 2017 +0200\n",
      "\n",
      "    Fixed Log6\n",
      "\n",
      "commit c9fd248c0ef583095d66760a4bc6ea64ecdba8de\n",
      "Author: Tommy Carlsson <topcatse@yahoo.se>\n",
      "Date:   Mon Apr 24 23:14:00 2017 +0200\n",
      "\n",
      "    Fixed Log5\n",
      "\n",
      "commit 90ce0d62e19c364283db91866903712e9d1d6b0d\n",
      "Author: Tommy Carlsson <topcatse@yahoo.se>\n",
      "Date:   Mon Apr 24 23:14:00 2017 +0200\n",
      "\n",
      "    Fixed Log4\n",
      "\n",
      "commit 06558f1d77a09bb41a97bf3eda20e1af3f551a39\n",
      "Author: Tommy Carlsson <topcatse@yahoo.se>\n",
      "Date:   Mon Apr 24 22:41:27 2017 +0200\n",
      "\n",
      "    Added gitignore\n",
      "\n",
      "commit babe312b7a45955c1453de0d03280e0395a34cb3\n",
      "Author: Tommy Carlsson <topcatse@yahoo.se>\n",
      "Date:   Mon Apr 24 22:07:13 2017 +0200\n",
      "\n",
      "    Renamed counter and added meson.build\n",
      "\n",
      "commit 6200fa0f9548e0bba2c7d3b2dd518a923b18007c\n",
      "Author: Tommy Carlsson <topcatse@yahoo.se>\n",
      "Date:   Mon Apr 24 21:57:24 2017 +0200\n",
      "\n",
      "    Initial revision\n"
     ]
    }
   ],
   "source": [
    "%%bash\n",
    ". quickci Log4 Log5 Log6\n",
    "git log"
   ]
  },
  {
   "cell_type": "markdown",
   "metadata": {
    "deletable": true,
    "editable": true
   },
   "source": [
    "**Check differences in SourceTree. Build and run.**"
   ]
  },
  {
   "cell_type": "code",
   "execution_count": 24,
   "metadata": {
    "collapsed": false,
    "deletable": true,
    "editable": true
   },
   "outputs": [
    {
     "name": "stdout",
     "output_type": "stream",
     "text": [
      "ninja: Entering directory `build'\n",
      "[0/1] Regenerating build files\n",
      "The Meson build system\n",
      "Version: 0.39.1\n",
      "Source dir: /private/tmp/TickProject/src\n",
      "Build dir: /private/tmp/TickProject/build\n",
      "Build type: native build\n",
      "Project name: TickCounterProject\n",
      "Native cpp compiler: c++ (clang 8.1.0)\n",
      "Build machine cpu family: x86_64\n",
      "Build machine cpu: x86_64\n",
      "Found pkg-config: /usr/local/bin/pkg-config (0.29.2)\n",
      "Native dependency spdlog found: YES 1.0.0\n",
      "Dependency threads found: YES\n",
      "Build targets in project: 1\n",
      "[1/2] Compiling cpp object 'tickcounter@exe/main.cpp.o'\n",
      "[2/2] Linking target tickcounter\n",
      "clang: warning: argument unused during compilation: '-pthread' [-Wunused-command-line-argument]\n"
     ]
    }
   ],
   "source": [
    "%%bash\n",
    "cd /tmp/TickProject\n",
    "ninja -C build"
   ]
  },
  {
   "cell_type": "markdown",
   "metadata": {
    "deletable": true,
    "editable": true
   },
   "source": [
    "## Merge logging branch into master\n",
    "**There are different conceps involved in a merge or could be.**\n",
    "- Fast forward\n",
    "- Three-way merge\n",
    "- Rebase\n",
    "- Conflicts\n",
    "<img src=\"merge-setup.png\" width=300>"
   ]
  },
  {
   "cell_type": "markdown",
   "metadata": {
    "deletable": true,
    "editable": true
   },
   "source": [
    "### Fast forward\n",
    "<img src=\"fastforward.png\" width=300>"
   ]
  },
  {
   "cell_type": "markdown",
   "metadata": {
    "deletable": true,
    "editable": true
   },
   "source": [
    "### Three-way merge\n",
    "<img src=\"threeway-init.png\" width=500>\n",
    "---\n",
    "---\n",
    "<img src=\"threeway.png\" width=500>"
   ]
  },
  {
   "cell_type": "markdown",
   "metadata": {
    "deletable": true,
    "editable": true
   },
   "source": [
    "### Rebase (change the history)\n",
    "<img src=\"rebase-init.png\" width=500>\n",
    "---\n",
    "---\n",
    "<img src=\"rebase.png\" width=500>\n",
    "---\n",
    "---\n",
    "<img src=\"rebase-fastforward.png\" width=700>"
   ]
  },
  {
   "cell_type": "markdown",
   "metadata": {
    "deletable": true,
    "editable": true
   },
   "source": [
    "<img src=\"rebase-shalt-not.jpg\" width=800>"
   ]
  },
  {
   "cell_type": "markdown",
   "metadata": {
    "deletable": true,
    "editable": true
   },
   "source": [
    "### Merge conflict\n",
    "**Let's create a conflict on the last line in main.cpp**\n",
    "\n",
    "**Also perform development on a another branch. Let's call it features.**"
   ]
  },
  {
   "cell_type": "code",
   "execution_count": 25,
   "metadata": {
    "collapsed": false,
    "deletable": true,
    "editable": true
   },
   "outputs": [
    {
     "name": "stderr",
     "output_type": "stream",
     "text": [
      "Switched to branch 'master'\n"
     ]
    }
   ],
   "source": [
    "%%bash\n",
    "cd /tmp/TickProject/src\n",
    "git checkout master\n",
    "git branch features"
   ]
  },
  {
   "cell_type": "code",
   "execution_count": 26,
   "metadata": {
    "collapsed": false,
    "deletable": true,
    "editable": true
   },
   "outputs": [
    {
     "name": "stdout",
     "output_type": "stream",
     "text": [
      "diff --git a/src/main.cpp b/src/main.cpp\n",
      "index 1dfe1bc..a0c98f7 100644\n",
      "--- a/src/main.cpp\n",
      "+++ b/src/main.cpp\n",
      "@@ -40,3 +40,4 @@ int main(int argc, char* argv[])\n",
      "   \n",
      "   return 0;\n",
      " }\n",
      "+This row at the end will prevent TickProject from building\n",
      "[master 4437dd2] This will be a conflict\n",
      " 1 file changed, 1 insertion(+)\n"
     ]
    }
   ],
   "source": [
    "%%bash\n",
    "cd /tmp/TickProject/src\n",
    "echo This row at the end will prevent TickProject from building >> main.cpp\n",
    "git diff\n",
    "git commit -am \"This will be a conflict\""
   ]
  },
  {
   "cell_type": "markdown",
   "metadata": {
    "deletable": true,
    "editable": true
   },
   "source": [
    "**Add some features on the features branch**"
   ]
  },
  {
   "cell_type": "code",
   "execution_count": 27,
   "metadata": {
    "collapsed": false,
    "deletable": true,
    "editable": true
   },
   "outputs": [
    {
     "name": "stdout",
     "output_type": "stream",
     "text": [
      "diff --git a/src/main.cpp b/src/main.cpp\n",
      "index 1dfe1bc..360c171 100644\n",
      "--- a/src/main.cpp\n",
      "+++ b/src/main.cpp\n",
      "@@ -24,7 +24,7 @@ private:\n",
      " \n",
      " int main(int argc, char* argv[])\n",
      " {\n",
      "-  cout << \"Hello World!\" << endl;\n",
      "+  cout << \"Hello Makers!\" << endl;\n",
      "   \n",
      "   TickReceiver receiver;\n",
      " \n",
      "[features e3c2f51] Changed greeting\n",
      " 1 file changed, 1 insertion(+), 1 deletion(-)\n"
     ]
    },
    {
     "name": "stderr",
     "output_type": "stream",
     "text": [
      "Switched to branch 'features'\n"
     ]
    }
   ],
   "source": [
    "%%bash\n",
    "cd /tmp/TickProject/src\n",
    "git checkout features\n",
    "sed -i 's/Hello World/Hello Makers/g' main.cpp\n",
    "git diff\n",
    "git commit -am \"Changed greeting\""
   ]
  },
  {
   "cell_type": "code",
   "execution_count": 28,
   "metadata": {
    "collapsed": false,
    "deletable": true,
    "editable": true
   },
   "outputs": [
    {
     "name": "stdout",
     "output_type": "stream",
     "text": [
      "diff --git a/src/main.cpp b/src/main.cpp\n",
      "index 360c171..cf104bc 100644\n",
      "--- a/src/main.cpp\n",
      "+++ b/src/main.cpp\n",
      "@@ -40,3 +40,4 @@ int main(int argc, char* argv[])\n",
      "   \n",
      "   return 0;\n",
      " }\n",
      "+// This row at the end will compile\n",
      "[features 44446f8] Added a row at the end of main.cpp\n",
      " 1 file changed, 1 insertion(+)\n"
     ]
    }
   ],
   "source": [
    "%%bash\n",
    "cd /tmp/TickProject/src\n",
    "echo // This row at the end will compile >> main.cpp\n",
    "git diff\n",
    "git commit -am \"Added a row at the end of main.cpp\""
   ]
  },
  {
   "cell_type": "markdown",
   "metadata": {
    "deletable": true,
    "editable": true
   },
   "source": [
    "**Merge features onto master --> Conflict**\n",
    "\n",
    "**Check always out the branch which shall be modified!**"
   ]
  },
  {
   "cell_type": "code",
   "execution_count": 29,
   "metadata": {
    "collapsed": false,
    "deletable": true,
    "editable": true
   },
   "outputs": [
    {
     "name": "stdout",
     "output_type": "stream",
     "text": [
      "Auto-merging src/main.cpp\n",
      "CONFLICT (content): Merge conflict in src/main.cpp\n",
      "Automatic merge failed; fix conflicts and then commit the result.\n"
     ]
    },
    {
     "name": "stderr",
     "output_type": "stream",
     "text": [
      "Switched to branch 'master'\n"
     ]
    }
   ],
   "source": [
    "%%bash\n",
    "cd /tmp/TickProject/src\n",
    "git checkout master\n",
    "git merge features"
   ]
  },
  {
   "cell_type": "markdown",
   "metadata": {
    "deletable": true,
    "editable": true
   },
   "source": [
    "**Resolve conlict in SourceTree**\n",
    "<img src=\"conflict-sourcetree.png\" width=600>"
   ]
  },
  {
   "cell_type": "markdown",
   "metadata": {
    "deletable": true,
    "editable": true
   },
   "source": [
    "**Commit merge**"
   ]
  },
  {
   "cell_type": "code",
   "execution_count": 30,
   "metadata": {
    "collapsed": false,
    "deletable": true,
    "editable": true
   },
   "outputs": [
    {
     "name": "stdout",
     "output_type": "stream",
     "text": [
      "On branch master\n",
      "nothing to commit, working tree clean\n"
     ]
    }
   ],
   "source": [
    "%%bash\n",
    "cd /tmp/TickProject/src\n",
    "git status"
   ]
  },
  {
   "cell_type": "code",
   "execution_count": 31,
   "metadata": {
    "collapsed": false,
    "deletable": true,
    "editable": true
   },
   "outputs": [
    {
     "name": "stdout",
     "output_type": "stream",
     "text": [
      "On branch master\n",
      "nothing to commit, working tree clean\n"
     ]
    }
   ],
   "source": [
    "%%bash\n",
    "cd /tmp/TickProject/src\n",
    "git commit -am \"Features added\""
   ]
  },
  {
   "cell_type": "markdown",
   "metadata": {
    "deletable": true,
    "editable": true
   },
   "source": [
    "### Rebase\n",
    "**This rebase scenario will target these goals:**\n",
    "* The logging branch (spdlog) is merged into the master branch\n",
    "* An appropriate commit message (i.e, not 'Fixed Log6') \n",
    "* Only one commit from logging (squash several commits to one)"
   ]
  },
  {
   "cell_type": "code",
   "execution_count": 33,
   "metadata": {
    "collapsed": false,
    "deletable": true,
    "editable": true
   },
   "outputs": [
    {
     "name": "stderr",
     "output_type": "stream",
     "text": [
      "Already on 'logging'\n"
     ]
    }
   ],
   "source": [
    "%%bash\n",
    "cd /tmp/TickProject\n",
    "git checkout logging"
   ]
  },
  {
   "cell_type": "markdown",
   "metadata": {
    "deletable": true,
    "editable": true
   },
   "source": [
    "**I usually create a tmp branch at this point** (If something goes wrong, just remove after)"
   ]
  },
  {
   "cell_type": "code",
   "execution_count": 34,
   "metadata": {
    "collapsed": true,
    "deletable": true,
    "editable": true
   },
   "outputs": [],
   "source": [
    "%%bash\n",
    "cd /tmp/TickProject\n",
    "git branch logging-tmp"
   ]
  },
  {
   "cell_type": "markdown",
   "metadata": {
    "deletable": true,
    "editable": true
   },
   "source": [
    "**Use git rebase interactively to squash the logging branch**\n",
    "<img src=\"squash-init.png\" width=500>"
   ]
  },
  {
   "cell_type": "markdown",
   "metadata": {
    "deletable": true,
    "editable": true
   },
   "source": [
    "**Use git rebase interactively** Let's perform this in SourceTree via a terminal.\n",
    "\n",
    "Like so: **git rebase -i 06558f1d77a09bb41a97bf3eda20e1af3f551a39**\n",
    "\n",
    "<img src=\"squash.png\" width=500>"
   ]
  },
  {
   "cell_type": "markdown",
   "metadata": {
    "deletable": true,
    "editable": true
   },
   "source": [
    "**After squash**\n",
    "<img src=\"squash-after.png\" width=500>"
   ]
  },
  {
   "cell_type": "code",
   "execution_count": 35,
   "metadata": {
    "collapsed": false
   },
   "outputs": [
    {
     "name": "stdout",
     "output_type": "stream",
     "text": [
      "First, rewinding head to replay your work on top of it...\n",
      "Applying: Introduced logging with spdlog\n",
      "Using index info to reconstruct a base tree...\n",
      "M\tsrc/main.cpp\n",
      "Falling back to patching base and 3-way merge...\n",
      "Auto-merging src/main.cpp\n",
      "CONFLICT (content): Merge conflict in src/main.cpp\n",
      "Patch failed at 0001 Introduced logging with spdlog\n",
      "The copy of the patch that failed is found in: .git/rebase-apply/patch\n",
      "\n",
      "When you have resolved this problem, run \"git rebase --continue\".\n",
      "If you prefer to skip this patch, run \"git rebase --skip\" instead.\n",
      "To check out the original branch and stop rebasing, run \"git rebase --abort\".\n",
      "\n"
     ]
    },
    {
     "name": "stderr",
     "output_type": "stream",
     "text": [
      "Already on 'logging'\n",
      ".git/rebase-apply/patch:32: trailing whitespace.\n",
      "    \n",
      ".git/rebase-apply/patch:34: trailing whitespace.\n",
      "    \n",
      ".git/rebase-apply/patch:53: trailing whitespace.\n",
      "    \n",
      ".git/rebase-apply/patch:65: trailing whitespace.\n",
      "spdlog_inc = include_directories(spdlog_dep.get_pkgconfig_variable('includedir')) \n",
      "warning: 4 lines add whitespace errors.\n",
      "error: Failed to merge in the changes.\n"
     ]
    }
   ],
   "source": [
    "%%bash\n",
    "cd /tmp/TickProject\n",
    "git checkout logging\n",
    "git rebase master"
   ]
  },
  {
   "cell_type": "markdown",
   "metadata": {
    "deletable": true,
    "editable": true
   },
   "source": [
    "**After rebase of logging**\n",
    "<img src=\"rebase-logging.png\" width=500>"
   ]
  },
  {
   "cell_type": "markdown",
   "metadata": {
    "deletable": true,
    "editable": true
   },
   "source": [
    "**Now master can be updated with a fast forward merge of logging**"
   ]
  },
  {
   "cell_type": "code",
   "execution_count": 36,
   "metadata": {
    "collapsed": false,
    "deletable": true,
    "editable": true
   },
   "outputs": [
    {
     "name": "stdout",
     "output_type": "stream",
     "text": [
      "Updating 815734f..70a68b5\n",
      "Fast-forward\n",
      " src/main.cpp    | 27 ++++++++++++++++-----------\n",
      " src/meson.build |  6 +++++-\n",
      " 2 files changed, 21 insertions(+), 12 deletions(-)\n"
     ]
    },
    {
     "name": "stderr",
     "output_type": "stream",
     "text": [
      "Switched to branch 'master'\n"
     ]
    }
   ],
   "source": [
    "%%bash\n",
    "cd /tmp/TickProject\n",
    "git checkout master\n",
    "git merge logging"
   ]
  },
  {
   "cell_type": "markdown",
   "metadata": {},
   "source": [
    "**Remove logging-tmp**"
   ]
  },
  {
   "cell_type": "code",
   "execution_count": 39,
   "metadata": {
    "collapsed": false
   },
   "outputs": [
    {
     "name": "stderr",
     "output_type": "stream",
     "text": [
      "error: The branch 'logging-tmp' is not fully merged.\n",
      "If you are sure you want to delete it, run 'git branch -D logging-tmp'.\n"
     ]
    }
   ],
   "source": [
    "%%bash\n",
    "cd /tmp/TickProject\n",
    "git branch -d logging-tmp"
   ]
  },
  {
   "cell_type": "code",
   "execution_count": 40,
   "metadata": {
    "collapsed": false
   },
   "outputs": [
    {
     "name": "stdout",
     "output_type": "stream",
     "text": [
      "Deleted branch logging-tmp (was 5bd5152).\n"
     ]
    }
   ],
   "source": [
    "%%bash\n",
    "cd /tmp/TickProject\n",
    "git branch -D logging-tmp"
   ]
  },
  {
   "cell_type": "markdown",
   "metadata": {},
   "source": [
    "**Reflog to your help if something has gone really wrong**"
   ]
  },
  {
   "cell_type": "code",
   "execution_count": 43,
   "metadata": {
    "collapsed": false
   },
   "outputs": [
    {
     "name": "stdout",
     "output_type": "stream",
     "text": [
      "70a68b5 HEAD@{0}: merge logging: Fast-forward\n",
      "815734f HEAD@{1}: checkout: moving from logging to master\n",
      "70a68b5 HEAD@{2}: rebase finished: returning to refs/heads/logging\n",
      "70a68b5 HEAD@{3}: commit: Rebased logging on to master\n",
      "815734f HEAD@{4}: rebase: checkout master\n",
      "e6b2230 HEAD@{5}: checkout: moving from logging to logging\n",
      "e6b2230 HEAD@{6}: rebase -i (finish): returning to refs/heads/logging\n",
      "e6b2230 HEAD@{7}: rebase -i (fixup): Introduced logging with spdlog\n",
      "322c1c7 HEAD@{8}: rebase -i (fixup): # This is a combination of 2 commits.\n",
      "d4f9b91 HEAD@{9}: rebase -i (reword): Introduced logging with spdlog\n",
      "90ce0d6 HEAD@{10}: cherry-pick: fast-forward\n",
      "06558f1 HEAD@{11}: rebase -i (start): checkout 06558f1d77a09bb41a97bf3eda20e1af3f551a39\n",
      "5bd5152 HEAD@{12}: checkout: moving from logging to logging\n",
      "5bd5152 HEAD@{13}: checkout: moving from master to logging\n",
      "815734f HEAD@{14}: commit (merge): Merge branch 'features'\n",
      "4437dd2 HEAD@{15}: checkout: moving from features to master\n",
      "44446f8 HEAD@{16}: commit: Added a row at the end of main.cpp\n",
      "e3c2f51 HEAD@{17}: commit: Changed greeting\n",
      "06558f1 HEAD@{18}: checkout: moving from master to features\n",
      "4437dd2 HEAD@{19}: commit: This will be a conflict\n",
      "06558f1 HEAD@{20}: checkout: moving from logging to master\n",
      "5bd5152 HEAD@{21}: commit: Fixed Log6\n",
      "c9fd248 HEAD@{22}: commit: Fixed Log5\n",
      "90ce0d6 HEAD@{23}: commit: Fixed Log4\n",
      "06558f1 HEAD@{24}: checkout: moving from master to logging\n",
      "06558f1 HEAD@{25}: commit: Added gitignore\n",
      "babe312 HEAD@{26}: commit: Renamed counter and added meson.build\n",
      "6200fa0 HEAD@{27}: commit (initial): Initial revision\n"
     ]
    }
   ],
   "source": [
    "%%bash\n",
    "cd /tmp/TickProject\n",
    "git reflog"
   ]
  },
  {
   "cell_type": "markdown",
   "metadata": {
    "collapsed": false,
    "deletable": true,
    "editable": true
   },
   "source": [
    "## Some more Git concepts\n",
    "* Detached HEAD - HEAD pointes to a commit (not a good state to be in)\n",
    "* Hunk - stage and/or discard changes of a file\n",
    "* Amend - fix last commit code and/or message\n",
    "* Stash - put changes in the stash\n",
    "* Blame - check who did what in a file\n",
    "* Cherry pick - get files from a commit"
   ]
  },
  {
   "cell_type": "code",
   "execution_count": 44,
   "metadata": {
    "collapsed": false,
    "deletable": true,
    "editable": true
   },
   "outputs": [],
   "source": [
    "!. quickedit v0.2"
   ]
  },
  {
   "cell_type": "markdown",
   "metadata": {
    "collapsed": false,
    "deletable": true,
    "editable": true
   },
   "source": [
    "<img src=\"hunk.png\" width=800>"
   ]
  },
  {
   "cell_type": "markdown",
   "metadata": {
    "deletable": true,
    "editable": true
   },
   "source": [
    "## GitHub\n",
    "1. Create a repository on your GitHub account @ https://github.com\n",
    "2. Bind your local account to the GitHub upstream repository\n",
    "3. Clone upstream repository to a second repository\n",
    "4. Add some code on a new branch travis and push upstream\n",
    "5. On secondary repository, fetch from upstream and merge or do a pull\n",
    "6. Create a pull request"
   ]
  },
  {
   "cell_type": "markdown",
   "metadata": {
    "deletable": true,
    "editable": true
   },
   "source": [
    "** 2. Bind **"
   ]
  },
  {
   "cell_type": "code",
   "execution_count": 45,
   "metadata": {
    "collapsed": false,
    "deletable": true,
    "editable": true
   },
   "outputs": [
    {
     "name": "stdout",
     "output_type": "stream",
     "text": [
      "Branch master set up to track remote branch master from origin.\n"
     ]
    },
    {
     "name": "stderr",
     "output_type": "stream",
     "text": [
      "Already on 'master'\n",
      "To https://github.com/topcatse/TickProject.git\n",
      " * [new branch]      master -> master\n"
     ]
    }
   ],
   "source": [
    "%%bash\n",
    "cd /tmp/TickProject\n",
    "git checkout master\n",
    "git remote add origin https://github.com/topcatse/TickProject.git\n",
    "git push --set-upstream origin master"
   ]
  },
  {
   "cell_type": "markdown",
   "metadata": {
    "deletable": true,
    "editable": true
   },
   "source": [
    "**3. Clone TickProject from GitHub to a second repository**"
   ]
  },
  {
   "cell_type": "code",
   "execution_count": 46,
   "metadata": {
    "collapsed": false,
    "deletable": true,
    "editable": true
   },
   "outputs": [
    {
     "name": "stdout",
     "output_type": "stream",
     "text": [
      "\u001b[01;34m.\u001b[00m\n",
      "├── .gitignore\n",
      "└── \u001b[01;34msrc\u001b[00m\n",
      "    ├── KeyTicker.h\n",
      "    ├── TickerInterface.h\n",
      "    ├── main.cpp\n",
      "    └── meson.build\n",
      "\n",
      "1 directory, 5 files\n"
     ]
    },
    {
     "name": "stderr",
     "output_type": "stream",
     "text": [
      "Cloning into 'TickProject2'...\n"
     ]
    }
   ],
   "source": [
    "%%bash\n",
    "cd /tmp\n",
    "git clone https://github.com/topcatse/TickProject.git TickProject2\n",
    "cd TickProject2\n",
    "tree -aCI .git"
   ]
  },
  {
   "cell_type": "code",
   "execution_count": 47,
   "metadata": {
    "collapsed": false
   },
   "outputs": [
    {
     "name": "stdout",
     "output_type": "stream",
     "text": [
      "total 0\n",
      "drwxr-xr-x   4 tommy         wheel  136 Apr 24 23:08 3rd\n",
      "drwxr-xr-x   7 tommy         wheel  238 Apr 24 23:55 TickProject\n",
      "drwxr-xr-x   5 tommy         wheel  170 Apr 25 00:11 TickProject2\n",
      "drwx------   3 tommy         wheel  102 Apr 24 20:58 com.apple.launchd.7DNtr1FyaN\n",
      "drwx------   3 _mbsetupuser  wheel  102 Apr 24 20:58 com.apple.launchd.NxV3I8W45z\n",
      "drwx------   3 _mbsetupuser  wheel  102 Apr 24 20:58 com.apple.launchd.YA0N0Q6VN1\n",
      "drwx------   3 tommy         wheel  102 Apr 24 20:58 com.apple.launchd.nrF2Bt7BQG\n",
      "drwx------   5 tommy         wheel  170 Apr 24 21:04 ctr-271470687\n",
      "drwx------   5 tommy         wheel  170 Apr 24 21:04 ctr-853333316\n",
      "drwxr-xr-x  15 tommy         wheel  510 Apr 24 23:03 spdlog\n",
      "drwxr-xr-x@ 13 tommy         wheel  442 Apr 24 23:08 spdlog-build\n"
     ]
    }
   ],
   "source": [
    "%%bash\n",
    "cd /tmp\n",
    "ls -l"
   ]
  },
  {
   "cell_type": "markdown",
   "metadata": {
    "deletable": true,
    "editable": true
   },
   "source": [
    "**4. Add some code locally in a new branch 'travis' and push upstream**"
   ]
  },
  {
   "cell_type": "code",
   "execution_count": 54,
   "metadata": {
    "collapsed": false,
    "deletable": true,
    "editable": true
   },
   "outputs": [
    {
     "name": "stdout",
     "output_type": "stream",
     "text": [
      "[travis 412f2af] Added travis-ci build\n",
      " 1 file changed, 45 insertions(+)\n",
      " create mode 100644 .travis.yml\n",
      "Branch travis set up to track remote branch travis from origin.\n"
     ]
    },
    {
     "name": "stderr",
     "output_type": "stream",
     "text": [
      "fatal: A branch named 'travis' already exists.\n",
      "To https://github.com/topcatse/TickProject.git\n",
      "   70a68b5..412f2af  travis -> travis\n"
     ]
    }
   ],
   "source": [
    "%%bash\n",
    "cd /tmp/TickProject\n",
    "git checkout -b travis\n",
    "git archive --format=tar --remote=~/src/maker-presentation v0.2 .travis.yml | tar xf -\n",
    "git add .travis.yml\n",
    "git commit -am \"Added travis-ci build\"\n",
    "git push -u origin travis"
   ]
  },
  {
   "cell_type": "markdown",
   "metadata": {
    "deletable": true,
    "editable": true
   },
   "source": [
    "**5. Fetch from upstream to TickProject2**"
   ]
  },
  {
   "cell_type": "code",
   "execution_count": 55,
   "metadata": {
    "collapsed": false,
    "deletable": true,
    "editable": true
   },
   "outputs": [
    {
     "name": "stdout",
     "output_type": "stream",
     "text": [
      "* master\n",
      "  remotes/origin/HEAD -> origin/master\n",
      "  remotes/origin/master\n",
      "  remotes/origin/travis\n"
     ]
    },
    {
     "name": "stderr",
     "output_type": "stream",
     "text": [
      "From https://github.com/topcatse/TickProject\n",
      " * [new branch]      travis     -> origin/travis\n"
     ]
    }
   ],
   "source": [
    "%%bash\n",
    "cd /tmp/TickProject2\n",
    "git fetch origin\n",
    "git branch -a"
   ]
  },
  {
   "cell_type": "code",
   "execution_count": 56,
   "metadata": {
    "collapsed": false,
    "deletable": true,
    "editable": true
   },
   "outputs": [
    {
     "name": "stdout",
     "output_type": "stream",
     "text": [
      "Branch travis set up to track remote branch travis from origin.\n"
     ]
    },
    {
     "name": "stderr",
     "output_type": "stream",
     "text": [
      "Switched to a new branch 'travis'\n"
     ]
    }
   ],
   "source": [
    "%%bash\n",
    "cd /tmp/TickProject2\n",
    "# git checkout -b travis --track origin/travis\n",
    "git checkout travis"
   ]
  },
  {
   "cell_type": "markdown",
   "metadata": {
    "deletable": true,
    "editable": true
   },
   "source": [
    "**6. At GitHub create a pull request to merge travis into master. Acknowledge.\n",
    "Update TickCounter2!**"
   ]
  },
  {
   "cell_type": "code",
   "execution_count": 57,
   "metadata": {
    "collapsed": false,
    "deletable": true,
    "editable": true
   },
   "outputs": [
    {
     "name": "stdout",
     "output_type": "stream",
     "text": [
      "  master\n",
      "* travis\n",
      "  remotes/origin/HEAD -> origin/master\n",
      "  remotes/origin/master\n",
      "  remotes/origin/travis\n"
     ]
    }
   ],
   "source": [
    "%%bash\n",
    "cd /tmp/TickProject2\n",
    "git fetch origin\n",
    "git branch -a"
   ]
  },
  {
   "cell_type": "code",
   "execution_count": 58,
   "metadata": {
    "collapsed": false,
    "deletable": true,
    "editable": true
   },
   "outputs": [
    {
     "name": "stdout",
     "output_type": "stream",
     "text": [
      "Your branch is up-to-date with 'origin/master'.\n",
      "Already up-to-date.\n",
      "On branch master\n",
      "Your branch is up-to-date with 'origin/master'.\n",
      "nothing to commit, working tree clean\n"
     ]
    },
    {
     "name": "stderr",
     "output_type": "stream",
     "text": [
      "Switched to branch 'master'\n"
     ]
    }
   ],
   "source": [
    "%%bash\n",
    "cd /tmp/TickProject2\n",
    "git log master..origin/master\n",
    "git checkout master\n",
    "git merge\n",
    "git status"
   ]
  },
  {
   "cell_type": "markdown",
   "metadata": {
    "deletable": true,
    "editable": true
   },
   "source": [
    "## Continuous integration\n",
    "+ Jenkins\n",
    "+ TeamCity\n",
    "+ GitLab\n",
    "+ Bamboo\n",
    "+ Travis-CI"
   ]
  }
 ],
 "metadata": {
  "kernelspec": {
   "display_name": "Python 3",
   "language": "python",
   "name": "python3"
  },
  "language_info": {
   "codemirror_mode": {
    "name": "ipython",
    "version": 3
   },
   "file_extension": ".py",
   "mimetype": "text/x-python",
   "name": "python",
   "nbconvert_exporter": "python",
   "pygments_lexer": "ipython3",
   "version": "3.6.1"
  }
 },
 "nbformat": 4,
 "nbformat_minor": 2
}
