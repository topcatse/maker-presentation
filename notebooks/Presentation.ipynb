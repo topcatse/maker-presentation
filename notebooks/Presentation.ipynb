{
 "cells": [
  {
   "cell_type": "markdown",
   "metadata": {
    "deletable": true,
    "editable": true
   },
   "source": [
    "# Programutveckling med Git\n",
    "**En introduktion**\n",
    "\n",
    "Most images in this presentation are from the Pro Git book. The entire [Pro Git book](https://git-scm.com/book/en/v2), written by Scott Chacon and Ben Straub and published by Apress, is available here. All content is licensed under the [Creative Commons Attribution Non Commercial Share Alike 3.0 license](https://creativecommons.org/licenses/by-nc-sa/3.0/). Print versions of the book are available on Amazon.com.\n",
    "\n",
    "Some images are from [Git With The Program: Introduction to Basic Git Concepts - Drupal Camp LA 2013](https://www.slideshare.net/mwrather/git-with-the-program-dcla-2013). All content is licensed under the [CC Attribution-ShareAlike License](https://creativecommons.org/licenses/by-sa/4.0/).\n"
   ]
  },
  {
   "cell_type": "markdown",
   "metadata": {
    "deletable": true,
    "editable": true
   },
   "source": [
    "## Why Git\n",
    "- Share information with others and/or yourself\n",
    "- Work with multiple things at the same time\n",
    "- Backup\n",
    "- Test stuff quick and easy"
   ]
  },
  {
   "cell_type": "code",
   "execution_count": 25,
   "metadata": {
    "collapsed": false,
    "deletable": true,
    "editable": true
   },
   "outputs": [
    {
     "data": {
      "text/html": [
       "<iframe width=\"560\" height=\"315\" src=\"https://www.youtube.com/embed/pOSqctHH9vY\" frameborder=\"0\" allowfullscreen></iframe>"
      ],
      "text/plain": [
       "<IPython.core.display.HTML object>"
      ]
     },
     "execution_count": 25,
     "metadata": {},
     "output_type": "execute_result"
    }
   ],
   "source": [
    "from IPython.core.display import HTML\n",
    "HTML('<iframe width=\"560\" height=\"315\" src=\"https://www.youtube.com/embed/pOSqctHH9vY\" frameborder=\"0\" allowfullscreen></iframe>')"
   ]
  },
  {
   "cell_type": "markdown",
   "metadata": {
    "deletable": true,
    "editable": true
   },
   "source": [
    "## Version Control Systems\n",
    "\n",
    "**To mention a few:**\n",
    "* Centralized Version Control Systems\n",
    "    - Git\n",
    "    - Mercurial\n",
    "* Distributed Version Control Systems\n",
    "    - SCCS\n",
    "    - RCS\n",
    "    - CVS\n",
    "    - PVCS\n",
    "    - SourceTree\n",
    "    - TFS\n",
    "    - Perforce\n",
    "    \n",
    "Centralized | Distributed\n",
    "- | -\n",
    "<img src=\"centralized.png\", width=600> | <img src=\"distributed.png\", width=600>"
   ]
  },
  {
   "cell_type": "markdown",
   "metadata": {
    "deletable": true,
    "editable": true
   },
   "source": [
    "## Git concepts\n",
    "\n",
    "### Stream of snapshots\n",
    "<img src=\"snapshots.png\", width=600>\n",
    "\n",
    "### Data Model\n",
    "- Blobs (atual data)\n",
    "- Tree (directories of blobs or of other trees)\n",
    "- A commit\n",
    "    * A tree\n",
    "    * Zero or more parent commits\n",
    "    * Meta data (message, email, timestamp)\n",
    "<img src=\"data-model-2.png\", width=600>\n",
    "\n",
    "### SHA1\n",
    "<img src=\"sha1.jpg\", width=300>\n",
    "\n",
    "### The Three States\n",
    "<img src=\"areas.png\", width=600>"
   ]
  },
  {
   "cell_type": "markdown",
   "metadata": {
    "deletable": true,
    "editable": true
   },
   "source": [
    "## Let's get started\n",
    "- Install Git. Start here: https://git-scm.com\n",
    "- First time setup on local machine\n",
    "    * git config --global user.name \"John Doe\"\n",
    "    * git config --global user.email johndoe@example.com\n",
    "    * git config --global core.editor \"'C:/Program Files (x86)/Notepad++/notepad++.exe'\n",
    "- Remote git server (optional)\n",
    "    * https://github.com/join?source=header-home\n",
    "    * https://bitbucket.org/account/signup/\n",
    "    * https://gitlab.com/users/sign_in"
   ]
  },
  {
   "cell_type": "markdown",
   "metadata": {
    "deletable": true,
    "editable": true
   },
   "source": [
    "## Initialize a local repository"
   ]
  },
  {
   "cell_type": "code",
   "execution_count": 5,
   "metadata": {
    "collapsed": false,
    "deletable": true,
    "editable": true
   },
   "outputs": [
    {
     "name": "stdout",
     "output_type": "stream",
     "text": [
      "Initialized empty Git repository in /private/tmp/TickProject/.git/\n",
      "\u001b[01;34m.\u001b[00m\n",
      "└── \u001b[01;34m.git\u001b[00m\n",
      "    ├── HEAD\n",
      "    ├── config\n",
      "    ├── description\n",
      "    ├── \u001b[01;34mhooks\u001b[00m\n",
      "    │   ├── \u001b[01;32mapplypatch-msg.sample\u001b[00m\n",
      "    │   ├── \u001b[01;32mcommit-msg.sample\u001b[00m\n",
      "    │   ├── \u001b[01;32mpost-update.sample\u001b[00m\n",
      "    │   ├── \u001b[01;32mpre-applypatch.sample\u001b[00m\n",
      "    │   ├── \u001b[01;32mpre-commit.sample\u001b[00m\n",
      "    │   ├── \u001b[01;32mpre-push.sample\u001b[00m\n",
      "    │   ├── \u001b[01;32mpre-rebase.sample\u001b[00m\n",
      "    │   ├── \u001b[01;32mpre-receive.sample\u001b[00m\n",
      "    │   ├── \u001b[01;32mprepare-commit-msg.sample\u001b[00m\n",
      "    │   └── \u001b[01;32mupdate.sample\u001b[00m\n",
      "    ├── \u001b[01;34minfo\u001b[00m\n",
      "    │   └── exclude\n",
      "    ├── \u001b[01;34mobjects\u001b[00m\n",
      "    │   ├── \u001b[01;34minfo\u001b[00m\n",
      "    │   └── \u001b[01;34mpack\u001b[00m\n",
      "    └── \u001b[01;34mrefs\u001b[00m\n",
      "        ├── \u001b[01;34mheads\u001b[00m\n",
      "        └── \u001b[01;34mtags\u001b[00m\n",
      "\n",
      "9 directories, 14 files\n"
     ]
    }
   ],
   "source": [
    "%%bash\n",
    "cd /tmp\n",
    "rm -rf TickProject\n",
    "mkdir TickProject\n",
    "cd TickProject\n",
    "git init\n",
    "tree -aC"
   ]
  },
  {
   "cell_type": "markdown",
   "metadata": {
    "deletable": true,
    "editable": true
   },
   "source": [
    "## Write some code and check status"
   ]
  },
  {
   "cell_type": "code",
   "execution_count": 6,
   "metadata": {
    "collapsed": false,
    "deletable": true,
    "editable": true
   },
   "outputs": [
    {
     "name": "stdout",
     "output_type": "stream",
     "text": [
      "\u001b[01;34m.\u001b[00m\n",
      "└── \u001b[01;34msrc\u001b[00m\n",
      "    ├── KeyTicker.h\n",
      "    ├── TickerInterface.h\n",
      "    └── main.cpp\n",
      "\n",
      "1 directory, 3 files\n",
      "On branch master\n",
      "\n",
      "Initial commit\n",
      "\n",
      "Untracked files:\n",
      "  (use \"git add <file>...\" to include in what will be committed)\n",
      "\n",
      "\tsrc/\n",
      "\n",
      "nothing added to commit but untracked files present (use \"git add\" to track)\n"
     ]
    }
   ],
   "source": [
    "%%bash\n",
    ". quickedit v0.1\n",
    "tree -aCI .git\n",
    "git status"
   ]
  },
  {
   "cell_type": "markdown",
   "metadata": {
    "deletable": true,
    "editable": true
   },
   "source": [
    "## Add code to stage area and check status"
   ]
  },
  {
   "cell_type": "code",
   "execution_count": 7,
   "metadata": {
    "collapsed": false,
    "deletable": true,
    "editable": true
   },
   "outputs": [
    {
     "name": "stdout",
     "output_type": "stream",
     "text": [
      "On branch master\n",
      "\n",
      "Initial commit\n",
      "\n",
      "Changes to be committed:\n",
      "  (use \"git rm --cached <file>...\" to unstage)\n",
      "\n",
      "\tnew file:   src/KeyTicker.h\n",
      "\tnew file:   src/TickerInterface.h\n",
      "\tnew file:   src/main.cpp\n",
      "\n"
     ]
    }
   ],
   "source": [
    "%%bash\n",
    "cd /tmp/TickProject\n",
    "git add .\n",
    "git status"
   ]
  },
  {
   "cell_type": "markdown",
   "metadata": {
    "deletable": true,
    "editable": true
   },
   "source": [
    "## Transfer code to local repository"
   ]
  },
  {
   "cell_type": "code",
   "execution_count": 8,
   "metadata": {
    "collapsed": false,
    "deletable": true,
    "editable": true
   },
   "outputs": [
    {
     "name": "stdout",
     "output_type": "stream",
     "text": [
      "[master (root-commit) 763fe7a] Initial revision\n",
      " 3 files changed, 109 insertions(+)\n",
      " create mode 100644 src/KeyTicker.h\n",
      " create mode 100644 src/TickerInterface.h\n",
      " create mode 100644 src/main.cpp\n",
      "On branch master\n",
      "nothing to commit, working tree clean\n"
     ]
    }
   ],
   "source": [
    "%%bash\n",
    "cd /tmp/TickProject\n",
    "git commit -a -m \"Initial revision\"\n",
    "git status"
   ]
  },
  {
   "cell_type": "markdown",
   "metadata": {
    "deletable": true,
    "editable": true
   },
   "source": [
    "## Some Git clients\n",
    "- SourceTree https://www.sourcetreeapp.com\n",
    "- GitKraken https://www.gitkraken.com\n",
    "- TortoiseGit https://tortoisegit.org"
   ]
  },
  {
   "cell_type": "markdown",
   "metadata": {
    "deletable": true,
    "editable": true
   },
   "source": [
    "## Write some more code (change name of a variable and add a meson.build file)\n",
    "**Use a gui client to see status and commit code**"
   ]
  },
  {
   "cell_type": "code",
   "execution_count": 9,
   "metadata": {
    "collapsed": false,
    "deletable": true,
    "editable": true
   },
   "outputs": [],
   "source": [
    "!. quickedit v0.2"
   ]
  },
  {
   "cell_type": "markdown",
   "metadata": {},
   "source": [
    "## Build and check status\n",
    "- [Meson](http://mesonbuild.com) is a build generating system\n",
    "- [Ninja](https://ninja-build.org) is a small build system with a focus on speed."
   ]
  },
  {
   "cell_type": "code",
   "execution_count": 68,
   "metadata": {
    "collapsed": false,
    "deletable": true,
    "editable": true
   },
   "outputs": [
    {
     "name": "stdout",
     "output_type": "stream",
     "text": [
      "The Meson build system\n",
      "Version: 0.39.1\n",
      "Source dir: /private/tmp/TickProject/src\n",
      "Build dir: /private/tmp/TickProject/build\n",
      "Build type: native build\n",
      "Project name: TickCounterProject\n",
      "Native cpp compiler: c++ (clang 8.0.0)\n",
      "Build machine cpu family: x86_64\n",
      "Build machine cpu: x86_64\n",
      "Found pkg-config: /usr/local/bin/pkg-config (0.29.2)\n",
      "Native dependency spdlog found: YES 1.0.0\n",
      "Dependency threads found: YES\n",
      "Build targets in project: 1\n"
     ]
    }
   ],
   "source": [
    "%%bash\n",
    "cd /tmp/TickProject && rm -rf build\n",
    "meson src build"
   ]
  },
  {
   "cell_type": "code",
   "execution_count": 69,
   "metadata": {
    "collapsed": false,
    "deletable": true,
    "editable": true
   },
   "outputs": [
    {
     "name": "stdout",
     "output_type": "stream",
     "text": [
      "ninja: Entering directory `/tmp/TickProject/build'\n",
      "[1/2] Compiling cpp object 'tickcounter@exe/main.cpp.o'\n",
      "[2/2] Linking target tickcounter\n",
      "clang: warning: argument unused during compilation: '-pthread'\n"
     ]
    }
   ],
   "source": [
    "%%bash\n",
    "ninja -C /tmp/TickProject/build"
   ]
  },
  {
   "cell_type": "code",
   "execution_count": 70,
   "metadata": {
    "collapsed": false
   },
   "outputs": [
    {
     "name": "stdout",
     "output_type": "stream",
     "text": [
      "On branch logging\n",
      "nothing to commit, working tree clean\n"
     ]
    }
   ],
   "source": [
    "%%bash\n",
    "cd /tmp/TickProject\n",
    "git status"
   ]
  },
  {
   "cell_type": "markdown",
   "metadata": {
    "collapsed": true,
    "deletable": true,
    "editable": true
   },
   "source": [
    "## Instruct Git to ignore build artifacts and other files that shouldn't be version controlled\n",
    "**Add an .gitignore file**\n",
    "There are plenty of examples of .gitignore files on the net and/or use e.g., https://www.gitignore.io"
   ]
  },
  {
   "cell_type": "code",
   "execution_count": 1,
   "metadata": {
    "collapsed": false
   },
   "outputs": [
    {
     "name": "stdout",
     "output_type": "stream",
     "text": [
      "On branch master\n",
      "nothing to commit, working tree clean\n"
     ]
    }
   ],
   "source": [
    "%%bash\n",
    "cd /tmp/TickProject\n",
    "git status"
   ]
  },
  {
   "cell_type": "markdown",
   "metadata": {
    "deletable": true,
    "editable": true
   },
   "source": [
    "## Branches, HEAD and tags?"
   ]
  },
  {
   "cell_type": "markdown",
   "metadata": {
    "collapsed": true,
    "deletable": true,
    "editable": true
   },
   "source": [
    "<img src=\"branch-and-history.png\", width=600>"
   ]
  },
  {
   "cell_type": "code",
   "execution_count": 24,
   "metadata": {
    "collapsed": false,
    "deletable": true,
    "editable": true
   },
   "outputs": [
    {
     "name": "stdout",
     "output_type": "stream",
     "text": [
      "* master f727868 Added gitignore\n"
     ]
    }
   ],
   "source": [
    "%%bash\n",
    "cd /tmp/TickProject\n",
    "git branch -v"
   ]
  },
  {
   "cell_type": "markdown",
   "metadata": {},
   "source": [
    "**Creating a New Branch**\n",
    "<img src=\"two-branches.png\", width=600>"
   ]
  },
  {
   "cell_type": "markdown",
   "metadata": {},
   "source": [
    "**HEAD pointing to a branch**\n",
    "<img src=\"head-to-master.png\", width=600>"
   ]
  },
  {
   "cell_type": "markdown",
   "metadata": {},
   "source": [
    "**Switching Branch**\n",
    "<img src=\"head-to-testing.png\", width=600>"
   ]
  },
  {
   "cell_type": "markdown",
   "metadata": {},
   "source": [
    "**The HEAD branch moves forward when a commit is made**\n",
    "<img src=\"advance-testing.png\", width=600>"
   ]
  },
  {
   "cell_type": "markdown",
   "metadata": {},
   "source": [
    "**HEAD moves when you checkout**\n",
    "<img src=\"checkout-master.png\", width=600>"
   ]
  },
  {
   "cell_type": "markdown",
   "metadata": {},
   "source": [
    "## Branching models\n",
    "**Git-flow**\n",
    "http://nvie.com/posts/a-successful-git-branching-model/\n",
    "<img src=\"Git-branching-model.pdf\", width=600>\n",
    "\n",
    "**Cactus**\n",
    "https://barro.github.io/2016/02/a-succesful-git-branching-model-considered-harmful/\n",
    "<img src=\"cactus-model-200.png\", width=200>\n",
    "\n",
    "**BBC News**\n",
    "http://www.integralist.co.uk/posts/github-workflow.html\n",
    "\n",
    "**Git Pro book**\n",
    "https://git-scm.com/book/en/v2/Git-Branching-Branches-in-a-Nutshell"
   ]
  },
  {
   "cell_type": "markdown",
   "metadata": {},
   "source": [
    "## Third party package usage strategies\n",
    "- Package Manager\n",
    "- Git submodules / subtrees\n",
    "- In source\n",
    "- Separate repositories (pkg-config)"
   ]
  },
  {
   "cell_type": "markdown",
   "metadata": {},
   "source": [
    "## Add better logging support to our TickCounter project \n",
    "**Let's use the 3rd party spdlog package as a separate repository and try it out in a logging feature branch**\n",
    "\n",
    "https://github.com/gabime/spdlog.git"
   ]
  },
  {
   "cell_type": "markdown",
   "metadata": {},
   "source": [
    "### Get the spdlog repo"
   ]
  },
  {
   "cell_type": "code",
   "execution_count": 27,
   "metadata": {
    "collapsed": false
   },
   "outputs": [
    {
     "name": "stderr",
     "output_type": "stream",
     "text": [
      "fatal: destination path 'spdlog' already exists and is not an empty directory.\n"
     ]
    }
   ],
   "source": [
    "%%bash\n",
    "cd /tmp\n",
    "rm -rf spdlog\n",
    "rm -rf 3rd/spdlog\n",
    "git clone https://github.com/gabime/spdlog.git spdlog"
   ]
  },
  {
   "cell_type": "code",
   "execution_count": 31,
   "metadata": {
    "collapsed": false
   },
   "outputs": [
    {
     "name": "stdout",
     "output_type": "stream",
     "text": [
      "total 24\n",
      "-rw-r--r--   1 tommy  wheel  2418 Apr 22 19:30 CMakeLists.txt\n",
      "-rw-r--r--   1 tommy  wheel   323 Apr 22 19:30 INSTALL\n",
      "-rw-r--r--   1 tommy  wheel  1142 Apr 22 19:30 LICENSE\n",
      "-rw-r--r--   1 tommy  wheel  7654 Apr 22 19:30 README.md\n",
      "-rwxr-xr-x   1 tommy  wheel   129 Apr 22 19:30 astyle.sh\n",
      "drwxr-xr-x  19 tommy  wheel   646 Apr 22 19:30 bench\n",
      "drwxr-xr-x   4 tommy  wheel   136 Apr 22 19:30 cmake\n",
      "drwxr-xr-x  14 tommy  wheel   476 Apr 22 19:30 example\n",
      "drwxr-xr-x   3 tommy  wheel   102 Apr 22 19:30 include\n",
      "drwxr-xr-x  18 tommy  wheel   612 Apr 22 19:30 tests\n"
     ]
    }
   ],
   "source": [
    "%%bash\n",
    "cd /tmp/spdlog\n",
    "ls -l"
   ]
  },
  {
   "cell_type": "markdown",
   "metadata": {},
   "source": [
    "**CMake is used in spdlog! A commonly used build preparing tool.**\n",
    "\n",
    "### Build and install spdlog\n",
    "\n",
    "Try it out in cmake gui <img src=\"cmake.png\" width=600>"
   ]
  },
  {
   "cell_type": "code",
   "execution_count": 48,
   "metadata": {
    "collapsed": false
   },
   "outputs": [
    {
     "name": "stdout",
     "output_type": "stream",
     "text": [
      "total 60\n",
      "-rw-r--r--   1 tommy  wheel  16740 Apr 22 20:21 CMakeCache.txt\n",
      "drwxr-xr-x  11 tommy  wheel    374 Apr 22 20:21 CMakeFiles\n",
      "drwxr-xr-x  35 tommy  wheel   1190 Apr 22 20:21 CMakeScripts\n",
      "-rw-r--r--   1 tommy  wheel    258 Apr 22 20:21 CTestTestfile.cmake\n",
      "-rw-r--r--   1 tommy  wheel   2776 Apr 22 20:12 DartConfiguration.tcl\n",
      "-rw-r--r--   1 tommy  wheel  22940 Apr 22 20:10 Makefile\n",
      "drwxr-xr-x   3 tommy  wheel    102 Apr 22 19:52 Testing\n",
      "-rw-r--r--   1 tommy  wheel   3071 Apr 22 20:21 cmake_install.cmake\n",
      "drwxr-xr-x   7 tommy  wheel    238 Apr 22 20:10 example\n",
      "drwxr-xr-x   5 tommy  wheel    170 Apr 22 20:21 generated\n",
      "-rw-r--r--   1 tommy  wheel   1802 Apr 22 20:39 install_manifest.txt\n",
      "drwxr-xr-x@  4 tommy  wheel    136 Apr 22 20:30 spdlog.build\n",
      "drwxr-xr-x   3 tommy  wheel    102 Apr 22 20:21 spdlog.xcodeproj\n",
      "drwxr-xr-x@ 10 tommy  wheel    340 Apr 22 20:30 tests\n"
     ]
    }
   ],
   "source": [
    "%%bash\n",
    "cd /tmp/spdlog-build\n",
    "ls -l"
   ]
  },
  {
   "cell_type": "code",
   "execution_count": 49,
   "metadata": {
    "collapsed": false
   },
   "outputs": [
    {
     "name": "stdout",
     "output_type": "stream",
     "text": [
      "=== BUILD AGGREGATE TARGET ZERO_CHECK OF PROJECT spdlog WITH CONFIGURATION Release ===\n",
      "\n",
      "Check dependencies\n",
      "\n",
      "PhaseScriptExecution CMake\\ Rules /tmp/spdlog-build/spdlog.build/Release/ZERO_CHECK.build/Script-DCCCF8A414D34683BE6C46C5.sh\n",
      "    cd /tmp/spdlog\n",
      "    /bin/sh -c /tmp/spdlog-build/spdlog.build/Release/ZERO_CHECK.build/Script-DCCCF8A414D34683BE6C46C5.sh\n",
      "echo \"\"\n",
      "\n",
      "make -f /tmp/spdlog-build/CMakeScripts/ReRunCMake.make\n",
      "make[1]: `/tmp/spdlog-build/CMakeFiles/cmake.check_cache' is up to date.\n",
      "\n",
      "=== BUILD TARGET catch_tests OF PROJECT spdlog WITH CONFIGURATION Release ===\n",
      "\n",
      "Check dependencies\n",
      "\n",
      "=== BUILD AGGREGATE TARGET ALL_BUILD OF PROJECT spdlog WITH CONFIGURATION Release ===\n",
      "\n",
      "Check dependencies\n",
      "\n",
      "PhaseScriptExecution CMake\\ Rules /tmp/spdlog-build/spdlog.build/Release/ALL_BUILD.build/Script-8E30146DD0F74541B02A4ABC.sh\n",
      "    cd /tmp/spdlog\n",
      "    /bin/sh -c /tmp/spdlog-build/spdlog.build/Release/ALL_BUILD.build/Script-8E30146DD0F74541B02A4ABC.sh\n",
      "echo \"\"\n",
      "\n",
      "echo Build\\ all\\ projects\n",
      "Build all projects\n",
      "\n",
      "=== BUILD AGGREGATE TARGET install OF PROJECT spdlog WITH CONFIGURATION Release ===\n",
      "\n",
      "Check dependencies\n",
      "\n",
      "PhaseScriptExecution CMake\\ PostBuild\\ Rules /tmp/spdlog-build/spdlog.build/Release/install.build/Script-A11C8008ECCB430EABFC2ED5.sh\n",
      "    cd /tmp/spdlog\n",
      "    /bin/sh -c /tmp/spdlog-build/spdlog.build/Release/install.build/Script-A11C8008ECCB430EABFC2ED5.sh\n",
      "/Applications/CMake.app/Contents/bin/cmake -DBUILD_TYPE=Release -P cmake_install.cmake\n",
      "-- Install configuration: \"Release\"\n",
      "-- Up-to-date: /tmp/3rd/include/spdlog\n",
      "-- Up-to-date: /tmp/3rd/include/spdlog/async_logger.h\n",
      "-- Up-to-date: /tmp/3rd/include/spdlog/common.h\n",
      "-- Up-to-date: /tmp/3rd/include/spdlog/details\n",
      "-- Up-to-date: /tmp/3rd/include/spdlog/details/async_log_helper.h\n",
      "-- Up-to-date: /tmp/3rd/include/spdlog/details/async_logger_impl.h\n",
      "-- Up-to-date: /tmp/3rd/include/spdlog/details/file_helper.h\n",
      "-- Up-to-date: /tmp/3rd/include/spdlog/details/log_msg.h\n",
      "-- Up-to-date: /tmp/3rd/include/spdlog/details/logger_impl.h\n",
      "-- Up-to-date: /tmp/3rd/include/spdlog/details/mpmc_bounded_q.h\n",
      "-- Up-to-date: /tmp/3rd/include/spdlog/details/null_mutex.h\n",
      "-- Up-to-date: /tmp/3rd/include/spdlog/details/os.h\n",
      "-- Up-to-date: /tmp/3rd/include/spdlog/details/pattern_formatter_impl.h\n",
      "-- Up-to-date: /tmp/3rd/include/spdlog/details/registry.h\n",
      "-- Up-to-date: /tmp/3rd/include/spdlog/details/spdlog_impl.h\n",
      "-- Up-to-date: /tmp/3rd/include/spdlog/fmt\n",
      "-- Up-to-date: /tmp/3rd/include/spdlog/fmt/bundled\n",
      "-- Up-to-date: /tmp/3rd/include/spdlog/fmt/bundled/format.cc\n",
      "-- Up-to-date: /tmp/3rd/include/spdlog/fmt/bundled/format.h\n",
      "-- Up-to-date: /tmp/3rd/include/spdlog/fmt/bundled/ostream.cc\n",
      "-- Up-to-date: /tmp/3rd/include/spdlog/fmt/bundled/ostream.h\n",
      "-- Up-to-date: /tmp/3rd/include/spdlog/fmt/bundled/posix.cc\n",
      "-- Up-to-date: /tmp/3rd/include/spdlog/fmt/bundled/posix.h\n",
      "-- Up-to-date: /tmp/3rd/include/spdlog/fmt/bundled/time.h\n",
      "-- Up-to-date: /tmp/3rd/include/spdlog/fmt/fmt.h\n",
      "-- Up-to-date: /tmp/3rd/include/spdlog/fmt/ostr.h\n",
      "-- Up-to-date: /tmp/3rd/include/spdlog/formatter.h\n",
      "-- Up-to-date: /tmp/3rd/include/spdlog/logger.h\n",
      "-- Up-to-date: /tmp/3rd/include/spdlog/sinks\n",
      "-- Up-to-date: /tmp/3rd/include/spdlog/sinks/android_sink.h\n",
      "-- Up-to-date: /tmp/3rd/include/spdlog/sinks/ansicolor_sink.h\n",
      "-- Up-to-date: /tmp/3rd/include/spdlog/sinks/base_sink.h\n",
      "-- Up-to-date: /tmp/3rd/include/spdlog/sinks/dist_sink.h\n",
      "-- Up-to-date: /tmp/3rd/include/spdlog/sinks/file_sinks.h\n",
      "-- Up-to-date: /tmp/3rd/include/spdlog/sinks/msvc_sink.h\n",
      "-- Up-to-date: /tmp/3rd/include/spdlog/sinks/null_sink.h\n",
      "-- Up-to-date: /tmp/3rd/include/spdlog/sinks/ostream_sink.h\n",
      "-- Up-to-date: /tmp/3rd/include/spdlog/sinks/sink.h\n",
      "-- Up-to-date: /tmp/3rd/include/spdlog/sinks/stdout_sinks.h\n",
      "-- Up-to-date: /tmp/3rd/include/spdlog/sinks/syslog_sink.h\n",
      "-- Up-to-date: /tmp/3rd/include/spdlog/sinks/wincolor_sink.h\n",
      "-- Up-to-date: /tmp/3rd/include/spdlog/spdlog.h\n",
      "-- Up-to-date: /tmp/3rd/include/spdlog/tweakme.h\n",
      "-- Up-to-date: /tmp/3rd/lib/cmake/spdlog/spdlogConfig.cmake\n",
      "-- Up-to-date: /tmp/3rd/lib/cmake/spdlog/spdlogConfigVersion.cmake\n",
      "-- Up-to-date: /tmp/3rd/lib/pkgconfig/spdlog.pc\n",
      "-- Up-to-date: /tmp/3rd/lib/cmake/spdlog/spdlogTargets.cmake\n",
      "\n",
      "** BUILD SUCCEEDED **\n",
      "\n"
     ]
    }
   ],
   "source": [
    "%%bash\n",
    "cd /tmp/spdlog-build\n",
    "xcodebuild -configuration Release -target install"
   ]
  },
  {
   "cell_type": "markdown",
   "metadata": {},
   "source": [
    "**Notice the installed .cmake files and spdlog.pc**\n",
    "+ .cmake - Facilitates to use this package from other CMake projects\n",
    "+ spdlog.pc - Facilitates to use this package from other projects using the pkg-config utility"
   ]
  },
  {
   "cell_type": "markdown",
   "metadata": {},
   "source": [
    "### Introduce spdlog in TickCounter project\n",
    "\n",
    "Use a new branch and name it \"logger\"."
   ]
  },
  {
   "cell_type": "code",
   "execution_count": 56,
   "metadata": {
    "collapsed": false
   },
   "outputs": [
    {
     "name": "stderr",
     "output_type": "stream",
     "text": [
      "Switched to a new branch 'logging'\n"
     ]
    }
   ],
   "source": [
    "%%bash\n",
    "cd /tmp/TickProject\n",
    "git checkout -b logging"
   ]
  },
  {
   "cell_type": "markdown",
   "metadata": {},
   "source": [
    "### Add some code using spdlog and fix build system"
   ]
  },
  {
   "cell_type": "code",
   "execution_count": 65,
   "metadata": {
    "collapsed": false
   },
   "outputs": [
    {
     "name": "stdout",
     "output_type": "stream",
     "text": [
      "[logging 8565276] Fixed Log4\n",
      " 2 files changed, 18 insertions(+), 11 deletions(-)\n",
      "[logging a39993e] Fixed Log5\n",
      " 2 files changed, 11 insertions(+), 5 deletions(-)\n",
      "[logging 43b0bd0] Fixed Log6\n",
      " 2 files changed, 8 insertions(+), 12 deletions(-)\n",
      "commit 43b0bd0f86d2cffc80d9d5928412912d789dc24a\n",
      "Author: Tommy Carlsson <topcatse@yahoo.se>\n",
      "Date:   Sun Apr 23 14:25:19 2017 +0200\n",
      "\n",
      "    Fixed Log6\n",
      "\n",
      "commit a39993ecc63539d712c085491e480411bec27f79\n",
      "Author: Tommy Carlsson <topcatse@yahoo.se>\n",
      "Date:   Sun Apr 23 14:25:18 2017 +0200\n",
      "\n",
      "    Fixed Log5\n",
      "\n",
      "commit 8565276ffdb45398e04af2f83e1ef72f7fa82271\n",
      "Author: Tommy Carlsson <topcatse@yahoo.se>\n",
      "Date:   Sun Apr 23 14:25:18 2017 +0200\n",
      "\n",
      "    Fixed Log4\n",
      "\n",
      "commit f7278681215f0ab4ee60bc776313cfa0b64862a8\n",
      "Author: Tommy Carlsson <topcatse@yahoo.se>\n",
      "Date:   Mon Apr 17 01:27:29 2017 +0200\n",
      "\n",
      "    Added gitignore\n",
      "\n",
      "commit cf9bffad32428b11409c0c102b19eda1ce337834\n",
      "Author: Tommy Carlsson <topcatse@yahoo.se>\n",
      "Date:   Mon Apr 17 01:10:33 2017 +0200\n",
      "\n",
      "    Add\n",
      "\n",
      "commit 763fe7ab26feeb3ad328560709f2ae9f7364857c\n",
      "Author: Tommy Carlsson <topcatse@yahoo.se>\n",
      "Date:   Mon Apr 17 01:08:52 2017 +0200\n",
      "\n",
      "    Initial revision\n"
     ]
    }
   ],
   "source": [
    "%%bash\n",
    ". quickci Log4 Log5 Log6\n",
    "git log"
   ]
  },
  {
   "cell_type": "markdown",
   "metadata": {},
   "source": [
    "**Check differences in SourceTree. Build and run.**"
   ]
  },
  {
   "cell_type": "code",
   "execution_count": 71,
   "metadata": {
    "collapsed": false
   },
   "outputs": [
    {
     "name": "stdout",
     "output_type": "stream",
     "text": [
      "ninja: Entering directory `build'\n",
      "ninja: no work to do.\n"
     ]
    }
   ],
   "source": [
    "%%bash\n",
    "cd /tmp/TickProject\n",
    "ninja -C build"
   ]
  },
  {
   "cell_type": "markdown",
   "metadata": {},
   "source": [
    "## Merge logging branch into master\n",
    "**There are different conceps involved in a merge or could be.**\n",
    "- Fast forward\n",
    "- Three-way merge\n",
    "- Rebase\n",
    "- Conflicts\n",
    "<img src=\"merge-setup.png\" width=300>"
   ]
  },
  {
   "cell_type": "markdown",
   "metadata": {},
   "source": [
    "### Fast forward\n",
    "<img src=\"fastforward.png\" width=300>"
   ]
  },
  {
   "cell_type": "markdown",
   "metadata": {},
   "source": [
    "### Three-way merge\n",
    "<img src=\"threeway-init.png\" width=500>\n",
    "---\n",
    "---\n",
    "<img src=\"threeway.png\" width=500>"
   ]
  },
  {
   "cell_type": "markdown",
   "metadata": {},
   "source": [
    "### Rebase\n",
    "<img src=\"rebase-init.png\" width=500>\n",
    "---\n",
    "---\n",
    "<img src=\"rebase.png\" width=500>\n",
    "---\n",
    "---\n",
    "<img src=\"rebase-fastforward.png\" width=700>"
   ]
  },
  {
   "cell_type": "markdown",
   "metadata": {},
   "source": [
    "<img src=\"rebase-shalt-not.jpg\" width=800>"
   ]
  },
  {
   "cell_type": "markdown",
   "metadata": {},
   "source": [
    "### Merge fast forward"
   ]
  },
  {
   "cell_type": "code",
   "execution_count": 91,
   "metadata": {
    "collapsed": false
   },
   "outputs": [
    {
     "name": "stderr",
     "output_type": "stream",
     "text": [
      "Already on 'master'\n"
     ]
    }
   ],
   "source": [
    "%%bash\n",
    "cd /tmp/TickProject/src\n",
    "git checkout master\n",
    "echo This row at the end will prevent TickProject from building >> main.cpp"
   ]
  },
  {
   "cell_type": "code",
   "execution_count": 92,
   "metadata": {
    "collapsed": false
   },
   "outputs": [
    {
     "name": "stdout",
     "output_type": "stream",
     "text": [
      "diff --git a/src/main.cpp b/src/main.cpp\n",
      "index 1dfe1bc..a0c98f7 100644\n",
      "--- a/src/main.cpp\n",
      "+++ b/src/main.cpp\n",
      "@@ -40,3 +40,4 @@ int main(int argc, char* argv[])\n",
      "   \n",
      "   return 0;\n",
      " }\n",
      "+This row at the end will prevent TickProject from building\n"
     ]
    }
   ],
   "source": [
    "%%bash\n",
    "cd /tmp/TickProject/src\n",
    "git diff"
   ]
  },
  {
   "cell_type": "code",
   "execution_count": 93,
   "metadata": {
    "collapsed": false
   },
   "outputs": [
    {
     "name": "stdout",
     "output_type": "stream",
     "text": [
      "[master 4ca2813] Fails to build\n",
      " 1 file changed, 1 insertion(+)\n"
     ]
    }
   ],
   "source": [
    "%%bash\n",
    "cd /tmp/TickProject/src\n",
    "git commit -am \"Fails to build\""
   ]
  },
  {
   "cell_type": "markdown",
   "metadata": {},
   "source": [
    "**Correct the mistake on a branch issue1**"
   ]
  },
  {
   "cell_type": "code",
   "execution_count": 95,
   "metadata": {
    "collapsed": false
   },
   "outputs": [
    {
     "name": "stdout",
     "output_type": "stream",
     "text": [
      "diff --git a/src/main.cpp b/src/main.cpp\n",
      "index a0c98f7..6b0ca83 100644\n",
      "--- a/src/main.cpp\n",
      "+++ b/src/main.cpp\n",
      "@@ -40,4 +40,4 @@ int main(int argc, char* argv[])\n",
      "   \n",
      "   return 0;\n",
      " }\n",
      "-This row at the end will prevent TickProject from building\n",
      "+//This line is ok\n",
      "[issue1 d2290bf] Issue1: Fixed\n",
      " 1 file changed, 1 insertion(+), 1 deletion(-)\n"
     ]
    }
   ],
   "source": [
    "%%bash\n",
    "cd /tmp/TickProject/src\n",
    "git checkout -b issue1\n",
    "sed -ie 's|^This row at the end will prevent TickProject from building|//This line is ok|' main.cpp\n",
    "git diff\n",
    "git commit -am \"Issue1: Fixed\""
   ]
  },
  {
   "cell_type": "markdown",
   "metadata": {},
   "source": [
    "**Merge issue1 into master --> Fast-forward**\n",
    "\n",
    "**Check always out the branch which shall be modified!**"
   ]
  },
  {
   "cell_type": "code",
   "execution_count": 96,
   "metadata": {
    "collapsed": false
   },
   "outputs": [
    {
     "name": "stdout",
     "output_type": "stream",
     "text": [
      "Updating 4ca2813..d2290bf\n",
      "Fast-forward\n",
      " src/main.cpp | 2 +-\n",
      " 1 file changed, 1 insertion(+), 1 deletion(-)\n"
     ]
    },
    {
     "name": "stderr",
     "output_type": "stream",
     "text": [
      "Switched to branch 'master'\n"
     ]
    }
   ],
   "source": [
    "%%bash\n",
    "cd /tmp/TickProject/src\n",
    "git checkout master\n",
    "git merge issue1"
   ]
  },
  {
   "cell_type": "markdown",
   "metadata": {},
   "source": [
    "**Undo merge. In this case move master to previous commit**"
   ]
  },
  {
   "cell_type": "code",
   "execution_count": 98,
   "metadata": {
    "collapsed": false
   },
   "outputs": [
    {
     "name": "stdout",
     "output_type": "stream",
     "text": [
      "On branch issue1\n",
      "Untracked files:\n",
      "\tmain.cppe\n",
      "\n",
      "nothing added to commit but untracked files present\n"
     ]
    },
    {
     "name": "stderr",
     "output_type": "stream",
     "text": [
      "Already on 'issue1'\n",
      "sed: -e expression #1, char 14: unknown option to `s'\n"
     ]
    }
   ],
   "source": [
    "%%bash\n",
    "cd /tmp/TickProject/src\n",
    "git checkout issue1\n",
    "sed -ie 's/warn/info/g' main.cpp\n",
    "git diff\n",
    "git commit -am \"Issue1: Changed log level\""
   ]
  },
  {
   "cell_type": "markdown",
   "metadata": {},
   "source": [
    "**Merge issue1 into master --> Conflict!**"
   ]
  },
  {
   "cell_type": "markdown",
   "metadata": {},
   "source": [
    "**Goal:**\n",
    "* An appropriate commit message\n",
    "* One commit from logging\n",
    "* Master branch uses spdlog"
   ]
  },
  {
   "cell_type": "markdown",
   "metadata": {},
   "source": [
    "### Squash!\n",
    "**Checkout logging**"
   ]
  },
  {
   "cell_type": "code",
   "execution_count": 73,
   "metadata": {
    "collapsed": false
   },
   "outputs": [
    {
     "name": "stderr",
     "output_type": "stream",
     "text": [
      "Already on 'logging'\n"
     ]
    }
   ],
   "source": [
    "%%bash\n",
    "cd /tmp/TickProject\n",
    "git checkout logging"
   ]
  },
  {
   "cell_type": "markdown",
   "metadata": {},
   "source": [
    "**I usually create a tmp branch at this point** (If something goes wrong, just remove after)"
   ]
  },
  {
   "cell_type": "code",
   "execution_count": 75,
   "metadata": {
    "collapsed": true
   },
   "outputs": [],
   "source": [
    "%%bash\n",
    "cd /tmp/TickProject\n",
    "git branch logging-tmp"
   ]
  },
  {
   "cell_type": "markdown",
   "metadata": {},
   "source": [
    "**Use git rebase interactively** Let's perform this in SourceTree"
   ]
  },
  {
   "cell_type": "markdown",
   "metadata": {},
   "source": [
    "\n"
   ]
  },
  {
   "cell_type": "code",
   "execution_count": null,
   "metadata": {
    "collapsed": true
   },
   "outputs": [],
   "source": []
  },
  {
   "cell_type": "code",
   "execution_count": null,
   "metadata": {
    "collapsed": true
   },
   "outputs": [],
   "source": []
  },
  {
   "cell_type": "code",
   "execution_count": null,
   "metadata": {
    "collapsed": false,
    "deletable": true,
    "editable": true
   },
   "outputs": [],
   "source": [
    "from IPython.core.display import HTML\n",
    "HTML('<iframe src=https://www.atlassian.com/git/tutorials/setting-up-a-repository/ width=800 height=500></iframe>')"
   ]
  },
  {
   "cell_type": "code",
   "execution_count": null,
   "metadata": {
    "collapsed": false,
    "deletable": true,
    "editable": true
   },
   "outputs": [],
   "source": [
    "%%bash\n",
    "cd ..\n",
    "tree -C -I \"build|notebooks\""
   ]
  },
  {
   "cell_type": "code",
   "execution_count": null,
   "metadata": {
    "collapsed": false,
    "deletable": true,
    "editable": true
   },
   "outputs": [],
   "source": [
    "%%bash\n",
    "ls"
   ]
  },
  {
   "cell_type": "markdown",
   "metadata": {
    "deletable": true,
    "editable": true
   },
   "source": [
    "## Versionshantering\n",
    "\n",
    "![Alt Text](https://product.hubspot.com/hs-fs/hubfs/Git_101-1.jpg?t=1488923369752&width=620&height=516&name=Git_101-1.jpg \"Title\")"
   ]
  },
  {
   "cell_type": "markdown",
   "metadata": {
    "deletable": true,
    "editable": true
   },
   "source": [
    "<table>\n",
    "<th> <img src=\"areas.png\", width=600> </th>\n",
    "<th/>\n",
    "<th> <img src=\"areas.png\", width=600> </th>\n",
    "</table>"
   ]
  },
  {
   "cell_type": "code",
   "execution_count": null,
   "metadata": {
    "collapsed": true,
    "deletable": true,
    "editable": true
   },
   "outputs": [],
   "source": [
    "%lsmagic"
   ]
  },
  {
   "cell_type": "markdown",
   "metadata": {
    "deletable": true,
    "editable": true
   },
   "source": [
    "git archive --format=tar --remote=~/src/maker-presentation v0.2:TickCounter | tar xf -\n",
    "\n",
    "docker run --rm -it -v `pwd`:/work topcatse/mesondocker /bin/bash"
   ]
  }
 ],
 "metadata": {
  "kernelspec": {
   "display_name": "Python 3",
   "language": "python",
   "name": "python3"
  },
  "language_info": {
   "codemirror_mode": {
    "name": "ipython",
    "version": 3
   },
   "file_extension": ".py",
   "mimetype": "text/x-python",
   "name": "python",
   "nbconvert_exporter": "python",
   "pygments_lexer": "ipython3",
   "version": "3.6.1"
  }
 },
 "nbformat": 4,
 "nbformat_minor": 2
}
