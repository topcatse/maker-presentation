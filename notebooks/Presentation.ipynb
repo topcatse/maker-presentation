{
 "cells": [
  {
   "cell_type": "markdown",
   "metadata": {
    "deletable": true,
    "editable": true
   },
   "source": [
    "# Programutveckling med Git\n",
    "**En introduktion**\n",
    "\n",
    "Many images in this presentation are from the Pro Git book. The entire [Pro Git book](https://git-scm.com/book/en/v2), written by Scott Chacon and Ben Straub and published by Apress, is available here. All content is licensed under the [Creative Commons Attribution Non Commercial Share Alike 3.0 license](https://creativecommons.org/licenses/by-nc-sa/3.0/). Print versions of the book are available on Amazon.com.\n"
   ]
  },
  {
   "cell_type": "markdown",
   "metadata": {
    "deletable": true,
    "editable": true
   },
   "source": [
    "## Why Git\n",
    "- Share information with others and/or yourself\n",
    "- Work with multiple things at the same time\n",
    "- Backup\n",
    "- Test stuff quick and easy"
   ]
  },
  {
   "cell_type": "code",
   "execution_count": 25,
   "metadata": {
    "collapsed": false,
    "deletable": true,
    "editable": true
   },
   "outputs": [
    {
     "data": {
      "text/html": [
       "<iframe width=\"560\" height=\"315\" src=\"https://www.youtube.com/embed/pOSqctHH9vY\" frameborder=\"0\" allowfullscreen></iframe>"
      ],
      "text/plain": [
       "<IPython.core.display.HTML object>"
      ]
     },
     "execution_count": 25,
     "metadata": {},
     "output_type": "execute_result"
    }
   ],
   "source": [
    "from IPython.core.display import HTML\n",
    "HTML('<iframe width=\"560\" height=\"315\" src=\"https://www.youtube.com/embed/pOSqctHH9vY\" frameborder=\"0\" allowfullscreen></iframe>')"
   ]
  },
  {
   "cell_type": "markdown",
   "metadata": {
    "deletable": true,
    "editable": true
   },
   "source": [
    "## Version Control Systems\n",
    "\n",
    "**To mention a few:**\n",
    "* Centralized Version Control Systems\n",
    "    - Git\n",
    "    - Mercurial\n",
    "* Distributed Version Control Systems\n",
    "    - SCCS\n",
    "    - RCS\n",
    "    - CVS\n",
    "    - PVCS\n",
    "    - SourceTree\n",
    "    - TFS\n",
    "    - Perforce\n",
    "    \n",
    "Centralized | Distributed\n",
    "- | -\n",
    "<img src=\"centralized.png\", width=600> | <img src=\"distributed.png\", width=600>"
   ]
  },
  {
   "cell_type": "markdown",
   "metadata": {
    "deletable": true,
    "editable": true
   },
   "source": [
    "## Git concepts\n",
    "\n",
    "### Stream of snapshots\n",
    "<img src=\"snapshots.png\", width=600>\n",
    "\n",
    "### Data Model\n",
    "- Blobs (atual data)\n",
    "- Tree (directories of blobs or of other trees)\n",
    "- A commit\n",
    "    * A tree\n",
    "    * Zero or more parent commits\n",
    "    * Meta data (message, email, timestamp)\n",
    "<img src=\"data-model-2.png\", width=600>\n",
    "\n",
    "### SHA1\n",
    "<img src=\"sha1.jpg\", width=300>\n",
    "\n",
    "### The Three States\n",
    "<img src=\"areas.png\", width=600>"
   ]
  },
  {
   "cell_type": "markdown",
   "metadata": {
    "deletable": true,
    "editable": true
   },
   "source": [
    "## Let's get started\n",
    "- Install Git. Start here: https://git-scm.com\n",
    "- First time setup on local machine\n",
    "    * git config --global user.name \"John Doe\"\n",
    "    * git config --global user.email johndoe@example.com\n",
    "    * git config --global core.editor \"'C:/Program Files (x86)/Notepad++/notepad++.exe'\n",
    "- Remote git server (optional)\n",
    "    * https://github.com/join?source=header-home\n",
    "    * https://bitbucket.org/account/signup/\n",
    "    * https://gitlab.com/users/sign_in"
   ]
  },
  {
   "cell_type": "markdown",
   "metadata": {
    "deletable": true,
    "editable": true
   },
   "source": [
    "## Initialize a local repository"
   ]
  },
  {
   "cell_type": "code",
   "execution_count": 5,
   "metadata": {
    "collapsed": false,
    "deletable": true,
    "editable": true
   },
   "outputs": [
    {
     "name": "stdout",
     "output_type": "stream",
     "text": [
      "Initialized empty Git repository in /private/tmp/TickProject/.git/\n",
      "\u001b[01;34m.\u001b[00m\n",
      "└── \u001b[01;34m.git\u001b[00m\n",
      "    ├── HEAD\n",
      "    ├── config\n",
      "    ├── description\n",
      "    ├── \u001b[01;34mhooks\u001b[00m\n",
      "    │   ├── \u001b[01;32mapplypatch-msg.sample\u001b[00m\n",
      "    │   ├── \u001b[01;32mcommit-msg.sample\u001b[00m\n",
      "    │   ├── \u001b[01;32mpost-update.sample\u001b[00m\n",
      "    │   ├── \u001b[01;32mpre-applypatch.sample\u001b[00m\n",
      "    │   ├── \u001b[01;32mpre-commit.sample\u001b[00m\n",
      "    │   ├── \u001b[01;32mpre-push.sample\u001b[00m\n",
      "    │   ├── \u001b[01;32mpre-rebase.sample\u001b[00m\n",
      "    │   ├── \u001b[01;32mpre-receive.sample\u001b[00m\n",
      "    │   ├── \u001b[01;32mprepare-commit-msg.sample\u001b[00m\n",
      "    │   └── \u001b[01;32mupdate.sample\u001b[00m\n",
      "    ├── \u001b[01;34minfo\u001b[00m\n",
      "    │   └── exclude\n",
      "    ├── \u001b[01;34mobjects\u001b[00m\n",
      "    │   ├── \u001b[01;34minfo\u001b[00m\n",
      "    │   └── \u001b[01;34mpack\u001b[00m\n",
      "    └── \u001b[01;34mrefs\u001b[00m\n",
      "        ├── \u001b[01;34mheads\u001b[00m\n",
      "        └── \u001b[01;34mtags\u001b[00m\n",
      "\n",
      "9 directories, 14 files\n"
     ]
    }
   ],
   "source": [
    "%%bash\n",
    "cd /tmp\n",
    "rm -rf TickProject\n",
    "mkdir TickProject\n",
    "cd TickProject\n",
    "git init\n",
    "tree -aC"
   ]
  },
  {
   "cell_type": "markdown",
   "metadata": {
    "deletable": true,
    "editable": true
   },
   "source": [
    "## Write some code and check status"
   ]
  },
  {
   "cell_type": "code",
   "execution_count": 6,
   "metadata": {
    "collapsed": false,
    "deletable": true,
    "editable": true
   },
   "outputs": [
    {
     "name": "stdout",
     "output_type": "stream",
     "text": [
      "\u001b[01;34m.\u001b[00m\n",
      "└── \u001b[01;34msrc\u001b[00m\n",
      "    ├── KeyTicker.h\n",
      "    ├── TickerInterface.h\n",
      "    └── main.cpp\n",
      "\n",
      "1 directory, 3 files\n",
      "On branch master\n",
      "\n",
      "Initial commit\n",
      "\n",
      "Untracked files:\n",
      "  (use \"git add <file>...\" to include in what will be committed)\n",
      "\n",
      "\tsrc/\n",
      "\n",
      "nothing added to commit but untracked files present (use \"git add\" to track)\n"
     ]
    }
   ],
   "source": [
    "%%bash\n",
    ". quickedit v0.1\n",
    "tree -aCI .git\n",
    "git status"
   ]
  },
  {
   "cell_type": "markdown",
   "metadata": {
    "deletable": true,
    "editable": true
   },
   "source": [
    "## Add code to stage area and check status"
   ]
  },
  {
   "cell_type": "code",
   "execution_count": 7,
   "metadata": {
    "collapsed": false,
    "deletable": true,
    "editable": true
   },
   "outputs": [
    {
     "name": "stdout",
     "output_type": "stream",
     "text": [
      "On branch master\n",
      "\n",
      "Initial commit\n",
      "\n",
      "Changes to be committed:\n",
      "  (use \"git rm --cached <file>...\" to unstage)\n",
      "\n",
      "\tnew file:   src/KeyTicker.h\n",
      "\tnew file:   src/TickerInterface.h\n",
      "\tnew file:   src/main.cpp\n",
      "\n"
     ]
    }
   ],
   "source": [
    "%%bash\n",
    "cd /tmp/TickProject\n",
    "git add .\n",
    "git status"
   ]
  },
  {
   "cell_type": "markdown",
   "metadata": {
    "deletable": true,
    "editable": true
   },
   "source": [
    "## Transfer code to local repository"
   ]
  },
  {
   "cell_type": "code",
   "execution_count": 8,
   "metadata": {
    "collapsed": false,
    "deletable": true,
    "editable": true
   },
   "outputs": [
    {
     "name": "stdout",
     "output_type": "stream",
     "text": [
      "[master (root-commit) 763fe7a] Initial revision\n",
      " 3 files changed, 109 insertions(+)\n",
      " create mode 100644 src/KeyTicker.h\n",
      " create mode 100644 src/TickerInterface.h\n",
      " create mode 100644 src/main.cpp\n",
      "On branch master\n",
      "nothing to commit, working tree clean\n"
     ]
    }
   ],
   "source": [
    "%%bash\n",
    "cd /tmp/TickProject\n",
    "git commit -a -m \"Initial revision\"\n",
    "git status"
   ]
  },
  {
   "cell_type": "markdown",
   "metadata": {
    "deletable": true,
    "editable": true
   },
   "source": [
    "## Git clients\n",
    "- SourceTree https://www.sourcetreeapp.com\n",
    "- GitKraken https://www.gitkraken.com"
   ]
  },
  {
   "cell_type": "markdown",
   "metadata": {
    "deletable": true,
    "editable": true
   },
   "source": [
    "## Write some more code (change name of a variable and add a meson.build file)\n",
    "**Use a gui client to see status and commit code**"
   ]
  },
  {
   "cell_type": "code",
   "execution_count": 9,
   "metadata": {
    "collapsed": false,
    "deletable": true,
    "editable": true
   },
   "outputs": [],
   "source": [
    "!. quickedit v0.2"
   ]
  },
  {
   "cell_type": "markdown",
   "metadata": {},
   "source": [
    "## Build and check status\n",
    "- [Meson](http://mesonbuild.com) is a build generating system\n",
    "- [Ninja](https://ninja-build.org) is a small build system with a focus on speed."
   ]
  },
  {
   "cell_type": "code",
   "execution_count": 12,
   "metadata": {
    "collapsed": false,
    "deletable": true,
    "editable": true
   },
   "outputs": [
    {
     "name": "stdout",
     "output_type": "stream",
     "text": [
      "The Meson build system\n",
      "Version: 0.39.1\n",
      "Source dir: /private/tmp/TickProject/src\n",
      "Build dir: /private/tmp/TickProject/build\n",
      "Build type: native build\n",
      "Project name: TickCounterProject\n",
      "Native cpp compiler: c++ (clang 8.0.0)\n",
      "Build machine cpu family: x86_64\n",
      "Build machine cpu: x86_64\n",
      "Dependency threads found: YES\n",
      "Build targets in project: 1\n"
     ]
    }
   ],
   "source": [
    "%%bash\n",
    "cd /tmp/TickProject && rm -rf build\n",
    "meson src build"
   ]
  },
  {
   "cell_type": "code",
   "execution_count": 11,
   "metadata": {
    "collapsed": false,
    "deletable": true,
    "editable": true
   },
   "outputs": [
    {
     "name": "stdout",
     "output_type": "stream",
     "text": [
      "ninja: Entering directory `/tmp/TickProject/build'\n",
      "[1/2] Compiling cpp object 'tickcounter@exe/main.cpp.o'\n",
      "[2/2] Linking target tickcounter\n",
      "clang: warning: argument unused during compilation: '-pthread'\n"
     ]
    }
   ],
   "source": [
    "%%bash\n",
    "ninja -C /tmp/TickProject/build"
   ]
  },
  {
   "cell_type": "code",
   "execution_count": 13,
   "metadata": {
    "collapsed": false
   },
   "outputs": [
    {
     "name": "stdout",
     "output_type": "stream",
     "text": [
      "On branch master\n",
      "Untracked files:\n",
      "  (use \"git add <file>...\" to include in what will be committed)\n",
      "\n",
      "\tbuild/\n",
      "\n",
      "nothing added to commit but untracked files present (use \"git add\" to track)\n"
     ]
    }
   ],
   "source": [
    "%%bash\n",
    "cd /tmp/TickProject\n",
    "git status"
   ]
  },
  {
   "cell_type": "markdown",
   "metadata": {
    "collapsed": true,
    "deletable": true,
    "editable": true
   },
   "source": [
    "## Instruct Git to ignore build artifacts and other files that shouldn't be version controlled\n",
    "**Add an .gitignore file**\n",
    "There are plenty of examples of .gitignore files on the net and/or use e.g., https://www.gitignore.io"
   ]
  },
  {
   "cell_type": "code",
   "execution_count": 1,
   "metadata": {
    "collapsed": false
   },
   "outputs": [
    {
     "name": "stdout",
     "output_type": "stream",
     "text": [
      "On branch master\n",
      "nothing to commit, working tree clean\n"
     ]
    }
   ],
   "source": [
    "%%bash\n",
    "cd /tmp/TickProject\n",
    "git status"
   ]
  },
  {
   "cell_type": "markdown",
   "metadata": {
    "deletable": true,
    "editable": true
   },
   "source": [
    "## Branches, HEAD and tags?"
   ]
  },
  {
   "cell_type": "markdown",
   "metadata": {
    "collapsed": true,
    "deletable": true,
    "editable": true
   },
   "source": [
    "<img src=\"branch-and-history.png\", width=600>"
   ]
  },
  {
   "cell_type": "code",
   "execution_count": 24,
   "metadata": {
    "collapsed": false,
    "deletable": true,
    "editable": true
   },
   "outputs": [
    {
     "name": "stdout",
     "output_type": "stream",
     "text": [
      "* master f727868 Added gitignore\n"
     ]
    }
   ],
   "source": [
    "%%bash\n",
    "cd /tmp/TickProject\n",
    "git branch -v"
   ]
  },
  {
   "cell_type": "markdown",
   "metadata": {},
   "source": [
    "**Creating a New Branch**\n",
    "<img src=\"two-branches.png\", width=600>"
   ]
  },
  {
   "cell_type": "markdown",
   "metadata": {},
   "source": [
    "**HEAD pointing to a branch**\n",
    "<img src=\"head-to-master.png\", width=600>"
   ]
  },
  {
   "cell_type": "markdown",
   "metadata": {},
   "source": [
    "**Switching Branch**\n",
    "<img src=\"head-to-testing.png\", width=600>"
   ]
  },
  {
   "cell_type": "markdown",
   "metadata": {},
   "source": [
    "**The HEAD branch moves forward when a commit is made**\n",
    "<img src=\"advance-testing.png\", width=600>"
   ]
  },
  {
   "cell_type": "markdown",
   "metadata": {},
   "source": [
    "**HEAD moves when you checkout**\n",
    "<img src=\"checkout-master.png\", width=600>"
   ]
  },
  {
   "cell_type": "markdown",
   "metadata": {},
   "source": [
    "## Branching models\n",
    "**Git-flow**\n",
    "http://nvie.com/posts/a-successful-git-branching-model/\n",
    "<img src=\"Git-branching-model.pdf\", width=600>\n",
    "\n",
    "**Cactus**\n",
    "https://barro.github.io/2016/02/a-succesful-git-branching-model-considered-harmful/\n",
    "<img src=\"cactus-model-200.png\", width=200>\n",
    "\n",
    "**BBC News**\n",
    "http://www.integralist.co.uk/posts/github-workflow.html\n",
    "\n",
    "**Git Pro book**\n",
    "https://git-scm.com/book/en/v2/Git-Branching-Branches-in-a-Nutshell"
   ]
  },
  {
   "cell_type": "markdown",
   "metadata": {},
   "source": [
    "## Add better logging support to our TickCounter project \n",
    "**Let's use the 3rd party spdlog package and try it out in a logging feature branch**\n",
    "\n",
    "https://github.com/gabime/spdlog.git"
   ]
  },
  {
   "cell_type": "code",
   "execution_count": 27,
   "metadata": {
    "collapsed": false
   },
   "outputs": [
    {
     "name": "stderr",
     "output_type": "stream",
     "text": [
      "fatal: destination path 'spdlog' already exists and is not an empty directory.\n"
     ]
    }
   ],
   "source": [
    "%%bash\n",
    "cd /tmp\n",
    "git clone https://github.com/gabime/spdlog.git spdlog"
   ]
  },
  {
   "cell_type": "code",
   "execution_count": 31,
   "metadata": {
    "collapsed": false
   },
   "outputs": [
    {
     "name": "stdout",
     "output_type": "stream",
     "text": [
      "total 24\n",
      "-rw-r--r--   1 tommy  wheel  2418 Apr 22 19:30 CMakeLists.txt\n",
      "-rw-r--r--   1 tommy  wheel   323 Apr 22 19:30 INSTALL\n",
      "-rw-r--r--   1 tommy  wheel  1142 Apr 22 19:30 LICENSE\n",
      "-rw-r--r--   1 tommy  wheel  7654 Apr 22 19:30 README.md\n",
      "-rwxr-xr-x   1 tommy  wheel   129 Apr 22 19:30 astyle.sh\n",
      "drwxr-xr-x  19 tommy  wheel   646 Apr 22 19:30 bench\n",
      "drwxr-xr-x   4 tommy  wheel   136 Apr 22 19:30 cmake\n",
      "drwxr-xr-x  14 tommy  wheel   476 Apr 22 19:30 example\n",
      "drwxr-xr-x   3 tommy  wheel   102 Apr 22 19:30 include\n",
      "drwxr-xr-x  18 tommy  wheel   612 Apr 22 19:30 tests\n"
     ]
    }
   ],
   "source": [
    "%%bash\n",
    "cd /tmp/spdlog\n",
    "ls -l"
   ]
  },
  {
   "cell_type": "markdown",
   "metadata": {},
   "source": [
    "**CMake is used in spdlog! A commonly used build preparing tool.**\n",
    "\n",
    "Try it out in cmake gui"
   ]
  },
  {
   "cell_type": "code",
   "execution_count": 33,
   "metadata": {
    "collapsed": false
   },
   "outputs": [
    {
     "name": "stdout",
     "output_type": "stream",
     "text": [
      "total 36\n",
      "-rw-r--r--   1 tommy  wheel  16626 Apr 22 19:53 CMakeCache.txt\n",
      "drwxr-xr-x  16 tommy  wheel    544 Apr 22 19:53 CMakeFiles\n",
      "-rw-r--r--   1 tommy  wheel   2773 Apr 22 19:52 DartConfiguration.tcl\n",
      "-rw-r--r--   1 tommy  wheel   6361 Apr 22 19:53 Makefile\n",
      "drwxr-xr-x   3 tommy  wheel    102 Apr 22 19:52 Testing\n",
      "-rw-r--r--   1 tommy  wheel   2546 Apr 22 19:53 cmake_install.cmake\n",
      "drwxr-xr-x   5 tommy  wheel    170 Apr 22 19:53 generated\n",
      "drwxr-xr-x   4 tommy  wheel    136 Apr 22 19:52 tests\n"
     ]
    }
   ],
   "source": [
    "%%bash\n",
    "cd /tmp/spdlog-build\n",
    "ls -l"
   ]
  },
  {
   "cell_type": "code",
   "execution_count": 41,
   "metadata": {
    "collapsed": false
   },
   "outputs": [
    {
     "name": "stdout",
     "output_type": "stream",
     "text": [
      "# CMAKE generated file: DO NOT EDIT!\n",
      "# Generated by \"Unix Makefiles\" Generator, CMake Version 3.7\n",
      "\n",
      "# Default target executed when no arguments are given to make.\n",
      "default_target: all\n",
      "\n",
      ".PHONY : default_target\n",
      "\n",
      "# Allow only one \"make -f Makefile2\" at a time, but pass parallelism.\n",
      ".NOTPARALLEL:\n",
      "\n",
      "\n",
      "#=============================================================================\n",
      "# Special targets provided by cmake.\n",
      "\n",
      "# Disable implicit rules so canonical targets will work.\n",
      ".SUFFIXES:\n",
      "\n",
      "\n",
      "# Remove some rules from gmake that .SUFFIXES does not remove.\n",
      "SUFFIXES =\n",
      "\n",
      ".SUFFIXES: .hpux_make_needs_suffix_list\n",
      "\n",
      "\n",
      "# Suppress display of executed commands.\n",
      "$(VERBOSE).SILENT:\n",
      "\n",
      "\n",
      "# A target that is always out of date.\n",
      "cmake_force:\n",
      "\n",
      ".PHONY : cmake_force\n",
      "\n",
      "#=============================================================================\n",
      "# Set environment variables for the build.\n",
      "\n",
      "# The shell in which to execute make rules.\n",
      "SHELL = /bin/sh\n",
      "\n",
      "# The CMake executable.\n",
      "CMAKE_COMMAND = /Applications/CMake.app/Contents/bin/cmake\n",
      "\n",
      "# The command to remove a file.\n",
      "RM = /Applications/CMake.app/Contents/bin/cmake -E remove -f\n",
      "\n",
      "# Escaping for special characters.\n",
      "EQUALS = =\n",
      "\n",
      "# The top-level source directory on which CMake was run.\n",
      "CMAKE_SOURCE_DIR = /tmp/spdlog\n",
      "\n",
      "# The top-level build directory on which CMake was run.\n",
      "CMAKE_BINARY_DIR = /tmp/spdlog-build\n",
      "\n",
      "#=============================================================================\n",
      "# Targets provided globally by CMake.\n",
      "\n",
      "# Special rule for the target install/strip\n",
      "install/strip: preinstall\n",
      "\t@$(CMAKE_COMMAND) -E cmake_echo_color --switch=$(COLOR) --cyan \"Installing the project stripped...\"\n",
      "\t/Applications/CMake.app/Contents/bin/cmake -DCMAKE_INSTALL_DO_STRIP=1 -P cmake_install.cmake\n",
      ".PHONY : install/strip\n",
      "\n",
      "# Special rule for the target install/strip\n",
      "install/strip/fast: install/strip\n",
      "\n",
      ".PHONY : install/strip/fast\n",
      "\n",
      "# Special rule for the target install/local\n",
      "install/local: preinstall\n",
      "\t@$(CMAKE_COMMAND) -E cmake_echo_color --switch=$(COLOR) --cyan \"Installing only the local directory...\"\n",
      "\t/Applications/CMake.app/Contents/bin/cmake -DCMAKE_INSTALL_LOCAL_ONLY=1 -P cmake_install.cmake\n",
      ".PHONY : install/local\n",
      "\n",
      "# Special rule for the target install/local\n",
      "install/local/fast: install/local\n",
      "\n",
      ".PHONY : install/local/fast\n",
      "\n",
      "# Special rule for the target list_install_components\n",
      "list_install_components:\n",
      "\t@$(CMAKE_COMMAND) -E cmake_echo_color --switch=$(COLOR) --cyan \"Available install components are: \\\"Unspecified\\\"\"\n",
      ".PHONY : list_install_components\n",
      "\n",
      "# Special rule for the target list_install_components\n",
      "list_install_components/fast: list_install_components\n",
      "\n",
      ".PHONY : list_install_components/fast\n",
      "\n",
      "# Special rule for the target rebuild_cache\n",
      "rebuild_cache:\n",
      "\t@$(CMAKE_COMMAND) -E cmake_echo_color --switch=$(COLOR) --cyan \"Running CMake to regenerate build system...\"\n",
      "\t/Applications/CMake.app/Contents/bin/cmake -H$(CMAKE_SOURCE_DIR) -B$(CMAKE_BINARY_DIR)\n",
      ".PHONY : rebuild_cache\n",
      "\n",
      "# Special rule for the target rebuild_cache\n",
      "rebuild_cache/fast: rebuild_cache\n",
      "\n",
      ".PHONY : rebuild_cache/fast\n",
      "\n",
      "# Special rule for the target install\n",
      "install: preinstall\n",
      "\t@$(CMAKE_COMMAND) -E cmake_echo_color --switch=$(COLOR) --cyan \"Install the project...\"\n",
      "\t/Applications/CMake.app/Contents/bin/cmake -P cmake_install.cmake\n",
      ".PHONY : install\n",
      "\n",
      "# Special rule for the target install\n",
      "install/fast: preinstall/fast\n",
      "\t@$(CMAKE_COMMAND) -E cmake_echo_color --switch=$(COLOR) --cyan \"Install the project...\"\n",
      "\t/Applications/CMake.app/Contents/bin/cmake -P cmake_install.cmake\n",
      ".PHONY : install/fast\n",
      "\n",
      "# Special rule for the target test\n",
      "test:\n",
      "\t@$(CMAKE_COMMAND) -E cmake_echo_color --switch=$(COLOR) --cyan \"Running tests...\"\n",
      "\t/Applications/CMake.app/Contents/bin/ctest --force-new-ctest-process $(ARGS)\n",
      ".PHONY : test\n",
      "\n",
      "# Special rule for the target test\n",
      "test/fast: test\n",
      "\n",
      ".PHONY : test/fast\n",
      "\n",
      "# Special rule for the target edit_cache\n",
      "edit_cache:\n",
      "\t@$(CMAKE_COMMAND) -E cmake_echo_color --switch=$(COLOR) --cyan \"Running CMake cache editor...\"\n",
      "\t/Applications/CMake.app/Contents/bin/cmake-gui -H$(CMAKE_SOURCE_DIR) -B$(CMAKE_BINARY_DIR)\n",
      ".PHONY : edit_cache\n",
      "\n",
      "# Special rule for the target edit_cache\n",
      "edit_cache/fast: edit_cache\n",
      "\n",
      ".PHONY : edit_cache/fast\n",
      "\n",
      "# The main all target\n",
      "all: cmake_check_build_system\n",
      "\tcd /private/tmp/spdlog-build && $(CMAKE_COMMAND) -E cmake_progress_start /tmp/spdlog-build/CMakeFiles /tmp/spdlog-build/CMakeFiles/progress.marks\n",
      "\tcd /private/tmp/spdlog-build && $(MAKE) -f CMakeFiles/Makefile2 /tmp/spdlog-build/all\n",
      "\t$(CMAKE_COMMAND) -E cmake_progress_start /tmp/spdlog-build/CMakeFiles 0\n",
      ".PHONY : all\n",
      "\n",
      "# The main clean target\n",
      "clean:\n",
      "\tcd /private/tmp/spdlog-build && $(MAKE) -f CMakeFiles/Makefile2 /tmp/spdlog-build/clean\n",
      ".PHONY : clean\n",
      "\n",
      "# The main clean target\n",
      "clean/fast: clean\n",
      "\n",
      ".PHONY : clean/fast\n",
      "\n",
      "# Prepare targets for installation.\n",
      "preinstall: all\n",
      "\tcd /private/tmp/spdlog-build && $(MAKE) -f CMakeFiles/Makefile2 /tmp/spdlog-build/preinstall\n",
      ".PHONY : preinstall\n",
      "\n",
      "# Prepare targets for installation.\n",
      "preinstall/fast:\n",
      "\tcd /private/tmp/spdlog-build && $(MAKE) -f CMakeFiles/Makefile2 /tmp/spdlog-build/preinstall\n",
      ".PHONY : preinstall/fast\n",
      "\n",
      "# clear depends\n",
      "depend:\n",
      "\tcd /private/tmp/spdlog-build && $(CMAKE_COMMAND) -H$(CMAKE_SOURCE_DIR) -B$(CMAKE_BINARY_DIR) --check-build-system CMakeFiles/Makefile.cmake 1\n",
      ".PHONY : depend\n",
      "\n",
      "#=============================================================================\n",
      "# Target rules for targets named spdlog_headers_for_ide\n",
      "\n",
      "# Build rule for target.\n",
      "spdlog_headers_for_ide: cmake_check_build_system\n",
      "\t$(MAKE) -f CMakeFiles/Makefile2 spdlog_headers_for_ide\n",
      ".PHONY : spdlog_headers_for_ide\n",
      "\n",
      "# fast build rule for target.\n",
      "spdlog_headers_for_ide/fast:\n",
      "\t$(MAKE) -f /tmp/spdlog-build/CMakeFiles/spdlog_headers_for_ide.dir/build.make /tmp/spdlog-build/CMakeFiles/spdlog_headers_for_ide.dir/build\n",
      ".PHONY : spdlog_headers_for_ide/fast\n",
      "\n",
      "#=============================================================================\n",
      "# Target rules for targets named ContinuousCoverage\n",
      "\n",
      "# Build rule for target.\n",
      "ContinuousCoverage: cmake_check_build_system\n",
      "\t$(MAKE) -f CMakeFiles/Makefile2 ContinuousCoverage\n",
      ".PHONY : ContinuousCoverage\n",
      "\n",
      "# fast build rule for target.\n",
      "ContinuousCoverage/fast:\n",
      "\t$(MAKE) -f /tmp/spdlog-build/CMakeFiles/ContinuousCoverage.dir/build.make /tmp/spdlog-build/CMakeFiles/ContinuousCoverage.dir/build\n",
      ".PHONY : ContinuousCoverage/fast\n",
      "\n",
      "#=============================================================================\n",
      "# Target rules for targets named ContinuousTest\n",
      "\n",
      "# Build rule for target.\n",
      "ContinuousTest: cmake_check_build_system\n",
      "\t$(MAKE) -f CMakeFiles/Makefile2 ContinuousTest\n",
      ".PHONY : ContinuousTest\n",
      "\n",
      "# fast build rule for target.\n",
      "ContinuousTest/fast:\n",
      "\t$(MAKE) -f /tmp/spdlog-build/CMakeFiles/ContinuousTest.dir/build.make /tmp/spdlog-build/CMakeFiles/ContinuousTest.dir/build\n",
      ".PHONY : ContinuousTest/fast\n",
      "\n",
      "#=============================================================================\n",
      "# Target rules for targets named ContinuousBuild\n",
      "\n",
      "# Build rule for target.\n",
      "ContinuousBuild: cmake_check_build_system\n",
      "\t$(MAKE) -f CMakeFiles/Makefile2 ContinuousBuild\n",
      ".PHONY : ContinuousBuild\n",
      "\n",
      "# fast build rule for target.\n",
      "ContinuousBuild/fast:\n",
      "\t$(MAKE) -f /tmp/spdlog-build/CMakeFiles/ContinuousBuild.dir/build.make /tmp/spdlog-build/CMakeFiles/ContinuousBuild.dir/build\n",
      ".PHONY : ContinuousBuild/fast\n",
      "\n",
      "#=============================================================================\n",
      "# Target rules for targets named ContinuousStart\n",
      "\n",
      "# Build rule for target.\n",
      "ContinuousStart: cmake_check_build_system\n",
      "\t$(MAKE) -f CMakeFiles/Makefile2 ContinuousStart\n",
      ".PHONY : ContinuousStart\n",
      "\n",
      "# fast build rule for target.\n",
      "ContinuousStart/fast:\n",
      "\t$(MAKE) -f /tmp/spdlog-build/CMakeFiles/ContinuousStart.dir/build.make /tmp/spdlog-build/CMakeFiles/ContinuousStart.dir/build\n",
      ".PHONY : ContinuousStart/fast\n",
      "\n",
      "#=============================================================================\n",
      "# Target rules for targets named ExperimentalBuild\n",
      "\n",
      "# Build rule for target.\n",
      "ExperimentalBuild: cmake_check_build_system\n",
      "\t$(MAKE) -f CMakeFiles/Makefile2 ExperimentalBuild\n",
      ".PHONY : ExperimentalBuild\n",
      "\n",
      "# fast build rule for target.\n",
      "ExperimentalBuild/fast:\n",
      "\t$(MAKE) -f /tmp/spdlog-build/CMakeFiles/ExperimentalBuild.dir/build.make /tmp/spdlog-build/CMakeFiles/ExperimentalBuild.dir/build\n",
      ".PHONY : ExperimentalBuild/fast\n",
      "\n",
      "#=============================================================================\n",
      "# Target rules for targets named ExperimentalCoverage\n",
      "\n",
      "# Build rule for target.\n",
      "ExperimentalCoverage: cmake_check_build_system\n",
      "\t$(MAKE) -f CMakeFiles/Makefile2 ExperimentalCoverage\n",
      ".PHONY : ExperimentalCoverage\n",
      "\n",
      "# fast build rule for target.\n",
      "ExperimentalCoverage/fast:\n",
      "\t$(MAKE) -f /tmp/spdlog-build/CMakeFiles/ExperimentalCoverage.dir/build.make /tmp/spdlog-build/CMakeFiles/ExperimentalCoverage.dir/build\n",
      ".PHONY : ExperimentalCoverage/fast\n",
      "\n",
      "#=============================================================================\n",
      "# Target rules for targets named ExperimentalSubmit\n",
      "\n",
      "# Build rule for target.\n",
      "ExperimentalSubmit: cmake_check_build_system\n",
      "\t$(MAKE) -f CMakeFiles/Makefile2 ExperimentalSubmit\n",
      ".PHONY : ExperimentalSubmit\n",
      "\n",
      "# fast build rule for target.\n",
      "ExperimentalSubmit/fast:\n",
      "\t$(MAKE) -f /tmp/spdlog-build/CMakeFiles/ExperimentalSubmit.dir/build.make /tmp/spdlog-build/CMakeFiles/ExperimentalSubmit.dir/build\n",
      ".PHONY : ExperimentalSubmit/fast\n",
      "\n",
      "#=============================================================================\n",
      "# Target rules for targets named ContinuousUpdate\n",
      "\n",
      "# Build rule for target.\n",
      "ContinuousUpdate: cmake_check_build_system\n",
      "\t$(MAKE) -f CMakeFiles/Makefile2 ContinuousUpdate\n",
      ".PHONY : ContinuousUpdate\n",
      "\n",
      "# fast build rule for target.\n",
      "ContinuousUpdate/fast:\n",
      "\t$(MAKE) -f /tmp/spdlog-build/CMakeFiles/ContinuousUpdate.dir/build.make /tmp/spdlog-build/CMakeFiles/ContinuousUpdate.dir/build\n",
      ".PHONY : ContinuousUpdate/fast\n",
      "\n",
      "#=============================================================================\n",
      "# Target rules for targets named ExperimentalUpdate\n",
      "\n",
      "# Build rule for target.\n",
      "ExperimentalUpdate: cmake_check_build_system\n",
      "\t$(MAKE) -f CMakeFiles/Makefile2 ExperimentalUpdate\n",
      ".PHONY : ExperimentalUpdate\n",
      "\n",
      "# fast build rule for target.\n",
      "ExperimentalUpdate/fast:\n",
      "\t$(MAKE) -f /tmp/spdlog-build/CMakeFiles/ExperimentalUpdate.dir/build.make /tmp/spdlog-build/CMakeFiles/ExperimentalUpdate.dir/build\n",
      ".PHONY : ExperimentalUpdate/fast\n",
      "\n",
      "#=============================================================================\n",
      "# Target rules for targets named ExperimentalStart\n",
      "\n",
      "# Build rule for target.\n",
      "ExperimentalStart: cmake_check_build_system\n",
      "\t$(MAKE) -f CMakeFiles/Makefile2 ExperimentalStart\n",
      ".PHONY : ExperimentalStart\n",
      "\n",
      "# fast build rule for target.\n",
      "ExperimentalStart/fast:\n",
      "\t$(MAKE) -f /tmp/spdlog-build/CMakeFiles/ExperimentalStart.dir/build.make /tmp/spdlog-build/CMakeFiles/ExperimentalStart.dir/build\n",
      ".PHONY : ExperimentalStart/fast\n",
      "\n",
      "#=============================================================================\n",
      "# Target rules for targets named ContinuousSubmit\n",
      "\n",
      "# Build rule for target.\n",
      "ContinuousSubmit: cmake_check_build_system\n",
      "\t$(MAKE) -f CMakeFiles/Makefile2 ContinuousSubmit\n",
      ".PHONY : ContinuousSubmit\n",
      "\n",
      "# fast build rule for target.\n",
      "ContinuousSubmit/fast:\n",
      "\t$(MAKE) -f /tmp/spdlog-build/CMakeFiles/ContinuousSubmit.dir/build.make /tmp/spdlog-build/CMakeFiles/ContinuousSubmit.dir/build\n",
      ".PHONY : ContinuousSubmit/fast\n",
      "\n",
      "#=============================================================================\n",
      "# Target rules for targets named ExperimentalTest\n",
      "\n",
      "# Build rule for target.\n",
      "ExperimentalTest: cmake_check_build_system\n",
      "\t$(MAKE) -f CMakeFiles/Makefile2 ExperimentalTest\n",
      ".PHONY : ExperimentalTest\n",
      "\n",
      "# fast build rule for target.\n",
      "ExperimentalTest/fast:\n",
      "\t$(MAKE) -f /tmp/spdlog-build/CMakeFiles/ExperimentalTest.dir/build.make /tmp/spdlog-build/CMakeFiles/ExperimentalTest.dir/build\n",
      ".PHONY : ExperimentalTest/fast\n",
      "\n",
      "#=============================================================================\n",
      "# Target rules for targets named NightlySubmit\n",
      "\n",
      "# Build rule for target.\n",
      "NightlySubmit: cmake_check_build_system\n",
      "\t$(MAKE) -f CMakeFiles/Makefile2 NightlySubmit\n",
      ".PHONY : NightlySubmit\n",
      "\n",
      "# fast build rule for target.\n",
      "NightlySubmit/fast:\n",
      "\t$(MAKE) -f /tmp/spdlog-build/CMakeFiles/NightlySubmit.dir/build.make /tmp/spdlog-build/CMakeFiles/NightlySubmit.dir/build\n",
      ".PHONY : NightlySubmit/fast\n",
      "\n",
      "#=============================================================================\n",
      "# Target rules for targets named NightlyMemCheck\n",
      "\n",
      "# Build rule for target.\n",
      "NightlyMemCheck: cmake_check_build_system\n",
      "\t$(MAKE) -f CMakeFiles/Makefile2 NightlyMemCheck\n",
      ".PHONY : NightlyMemCheck\n",
      "\n",
      "# fast build rule for target.\n",
      "NightlyMemCheck/fast:\n",
      "\t$(MAKE) -f /tmp/spdlog-build/CMakeFiles/NightlyMemCheck.dir/build.make /tmp/spdlog-build/CMakeFiles/NightlyMemCheck.dir/build\n",
      ".PHONY : NightlyMemCheck/fast\n",
      "\n",
      "#=============================================================================\n",
      "# Target rules for targets named ExperimentalConfigure\n",
      "\n",
      "# Build rule for target.\n",
      "ExperimentalConfigure: cmake_check_build_system\n",
      "\t$(MAKE) -f CMakeFiles/Makefile2 ExperimentalConfigure\n",
      ".PHONY : ExperimentalConfigure\n",
      "\n",
      "# fast build rule for target.\n",
      "ExperimentalConfigure/fast:\n",
      "\t$(MAKE) -f /tmp/spdlog-build/CMakeFiles/ExperimentalConfigure.dir/build.make /tmp/spdlog-build/CMakeFiles/ExperimentalConfigure.dir/build\n",
      ".PHONY : ExperimentalConfigure/fast\n",
      "\n",
      "#=============================================================================\n",
      "# Target rules for targets named NightlyCoverage\n",
      "\n",
      "# Build rule for target.\n",
      "NightlyCoverage: cmake_check_build_system\n",
      "\t$(MAKE) -f CMakeFiles/Makefile2 NightlyCoverage\n",
      ".PHONY : NightlyCoverage\n",
      "\n",
      "# fast build rule for target.\n",
      "NightlyCoverage/fast:\n",
      "\t$(MAKE) -f /tmp/spdlog-build/CMakeFiles/NightlyCoverage.dir/build.make /tmp/spdlog-build/CMakeFiles/NightlyCoverage.dir/build\n",
      ".PHONY : NightlyCoverage/fast\n",
      "\n",
      "#=============================================================================\n",
      "# Target rules for targets named NightlyTest\n",
      "\n",
      "# Build rule for target.\n",
      "NightlyTest: cmake_check_build_system\n",
      "\t$(MAKE) -f CMakeFiles/Makefile2 NightlyTest\n",
      ".PHONY : NightlyTest\n",
      "\n",
      "# fast build rule for target.\n",
      "NightlyTest/fast:\n",
      "\t$(MAKE) -f /tmp/spdlog-build/CMakeFiles/NightlyTest.dir/build.make /tmp/spdlog-build/CMakeFiles/NightlyTest.dir/build\n",
      ".PHONY : NightlyTest/fast\n",
      "\n",
      "#=============================================================================\n",
      "# Target rules for targets named ContinuousMemCheck\n",
      "\n",
      "# Build rule for target.\n",
      "ContinuousMemCheck: cmake_check_build_system\n",
      "\t$(MAKE) -f CMakeFiles/Makefile2 ContinuousMemCheck\n",
      ".PHONY : ContinuousMemCheck\n",
      "\n",
      "# fast build rule for target.\n",
      "ContinuousMemCheck/fast:\n",
      "\t$(MAKE) -f /tmp/spdlog-build/CMakeFiles/ContinuousMemCheck.dir/build.make /tmp/spdlog-build/CMakeFiles/ContinuousMemCheck.dir/build\n",
      ".PHONY : ContinuousMemCheck/fast\n",
      "\n",
      "#=============================================================================\n",
      "# Target rules for targets named NightlyBuild\n",
      "\n",
      "# Build rule for target.\n",
      "NightlyBuild: cmake_check_build_system\n",
      "\t$(MAKE) -f CMakeFiles/Makefile2 NightlyBuild\n",
      ".PHONY : NightlyBuild\n",
      "\n",
      "# fast build rule for target.\n",
      "NightlyBuild/fast:\n",
      "\t$(MAKE) -f /tmp/spdlog-build/CMakeFiles/NightlyBuild.dir/build.make /tmp/spdlog-build/CMakeFiles/NightlyBuild.dir/build\n",
      ".PHONY : NightlyBuild/fast\n",
      "\n",
      "#=============================================================================\n",
      "# Target rules for targets named NightlyConfigure\n",
      "\n",
      "# Build rule for target.\n",
      "NightlyConfigure: cmake_check_build_system\n",
      "\t$(MAKE) -f CMakeFiles/Makefile2 NightlyConfigure\n",
      ".PHONY : NightlyConfigure\n",
      "\n",
      "# fast build rule for target.\n",
      "NightlyConfigure/fast:\n",
      "\t$(MAKE) -f /tmp/spdlog-build/CMakeFiles/NightlyConfigure.dir/build.make /tmp/spdlog-build/CMakeFiles/NightlyConfigure.dir/build\n",
      ".PHONY : NightlyConfigure/fast\n",
      "\n",
      "#=============================================================================\n",
      "# Target rules for targets named NightlyUpdate\n",
      "\n",
      "# Build rule for target.\n",
      "NightlyUpdate: cmake_check_build_system\n",
      "\t$(MAKE) -f CMakeFiles/Makefile2 NightlyUpdate\n",
      ".PHONY : NightlyUpdate\n",
      "\n",
      "# fast build rule for target.\n",
      "NightlyUpdate/fast:\n",
      "\t$(MAKE) -f /tmp/spdlog-build/CMakeFiles/NightlyUpdate.dir/build.make /tmp/spdlog-build/CMakeFiles/NightlyUpdate.dir/build\n",
      ".PHONY : NightlyUpdate/fast\n",
      "\n",
      "#=============================================================================\n",
      "# Target rules for targets named NightlyMemoryCheck\n",
      "\n",
      "# Build rule for target.\n",
      "NightlyMemoryCheck: cmake_check_build_system\n",
      "\t$(MAKE) -f CMakeFiles/Makefile2 NightlyMemoryCheck\n",
      ".PHONY : NightlyMemoryCheck\n",
      "\n",
      "# fast build rule for target.\n",
      "NightlyMemoryCheck/fast:\n",
      "\t$(MAKE) -f /tmp/spdlog-build/CMakeFiles/NightlyMemoryCheck.dir/build.make /tmp/spdlog-build/CMakeFiles/NightlyMemoryCheck.dir/build\n",
      ".PHONY : NightlyMemoryCheck/fast\n",
      "\n",
      "#=============================================================================\n",
      "# Target rules for targets named ContinuousConfigure\n",
      "\n",
      "# Build rule for target.\n",
      "ContinuousConfigure: cmake_check_build_system\n",
      "\t$(MAKE) -f CMakeFiles/Makefile2 ContinuousConfigure\n",
      ".PHONY : ContinuousConfigure\n",
      "\n",
      "# fast build rule for target.\n",
      "ContinuousConfigure/fast:\n",
      "\t$(MAKE) -f /tmp/spdlog-build/CMakeFiles/ContinuousConfigure.dir/build.make /tmp/spdlog-build/CMakeFiles/ContinuousConfigure.dir/build\n",
      ".PHONY : ContinuousConfigure/fast\n",
      "\n",
      "#=============================================================================\n",
      "# Target rules for targets named Nightly\n",
      "\n",
      "# Build rule for target.\n",
      "Nightly: cmake_check_build_system\n",
      "\t$(MAKE) -f CMakeFiles/Makefile2 Nightly\n",
      ".PHONY : Nightly\n",
      "\n",
      "# fast build rule for target.\n",
      "Nightly/fast:\n",
      "\t$(MAKE) -f /tmp/spdlog-build/CMakeFiles/Nightly.dir/build.make /tmp/spdlog-build/CMakeFiles/Nightly.dir/build\n",
      ".PHONY : Nightly/fast\n",
      "\n",
      "#=============================================================================\n",
      "# Target rules for targets named NightlyStart\n",
      "\n",
      "# Build rule for target.\n",
      "NightlyStart: cmake_check_build_system\n",
      "\t$(MAKE) -f CMakeFiles/Makefile2 NightlyStart\n",
      ".PHONY : NightlyStart\n",
      "\n",
      "# fast build rule for target.\n",
      "NightlyStart/fast:\n",
      "\t$(MAKE) -f /tmp/spdlog-build/CMakeFiles/NightlyStart.dir/build.make /tmp/spdlog-build/CMakeFiles/NightlyStart.dir/build\n",
      ".PHONY : NightlyStart/fast\n",
      "\n",
      "#=============================================================================\n",
      "# Target rules for targets named ExperimentalMemCheck\n",
      "\n",
      "# Build rule for target.\n",
      "ExperimentalMemCheck: cmake_check_build_system\n",
      "\t$(MAKE) -f CMakeFiles/Makefile2 ExperimentalMemCheck\n",
      ".PHONY : ExperimentalMemCheck\n",
      "\n",
      "# fast build rule for target.\n",
      "ExperimentalMemCheck/fast:\n",
      "\t$(MAKE) -f /tmp/spdlog-build/CMakeFiles/ExperimentalMemCheck.dir/build.make /tmp/spdlog-build/CMakeFiles/ExperimentalMemCheck.dir/build\n",
      ".PHONY : ExperimentalMemCheck/fast\n",
      "\n",
      "#=============================================================================\n",
      "# Target rules for targets named Continuous\n",
      "\n",
      "# Build rule for target.\n",
      "Continuous: cmake_check_build_system\n",
      "\t$(MAKE) -f CMakeFiles/Makefile2 Continuous\n",
      ".PHONY : Continuous\n",
      "\n",
      "# fast build rule for target.\n",
      "Continuous/fast:\n",
      "\t$(MAKE) -f /tmp/spdlog-build/CMakeFiles/Continuous.dir/build.make /tmp/spdlog-build/CMakeFiles/Continuous.dir/build\n",
      ".PHONY : Continuous/fast\n",
      "\n",
      "#=============================================================================\n",
      "# Target rules for targets named Experimental\n",
      "\n",
      "# Build rule for target.\n",
      "Experimental: cmake_check_build_system\n",
      "\t$(MAKE) -f CMakeFiles/Makefile2 Experimental\n",
      ".PHONY : Experimental\n",
      "\n",
      "# fast build rule for target.\n",
      "Experimental/fast:\n",
      "\t$(MAKE) -f /tmp/spdlog-build/CMakeFiles/Experimental.dir/build.make /tmp/spdlog-build/CMakeFiles/Experimental.dir/build\n",
      ".PHONY : Experimental/fast\n",
      "\n",
      "#=============================================================================\n",
      "# Target rules for targets named catch_tests\n",
      "\n",
      "# Build rule for target.\n",
      "catch_tests: cmake_check_build_system\n",
      "\t$(MAKE) -f CMakeFiles/Makefile2 catch_tests\n",
      ".PHONY : catch_tests\n",
      "\n",
      "# fast build rule for target.\n",
      "catch_tests/fast:\n",
      "\t$(MAKE) -f /tmp/spdlog-build/tests/CMakeFiles/catch_tests.dir/build.make /tmp/spdlog-build/tests/CMakeFiles/catch_tests.dir/build\n",
      ".PHONY : catch_tests/fast\n",
      "\n",
      "# Help Target\n",
      "help:\n",
      "\t@echo \"The following are some of the valid targets for this Makefile:\"\n",
      "\t@echo \"... all (the default if no target is provided)\"\n",
      "\t@echo \"... clean\"\n",
      "\t@echo \"... depend\"\n",
      "\t@echo \"... install/strip\"\n",
      "\t@echo \"... install/local\"\n",
      "\t@echo \"... list_install_components\"\n",
      "\t@echo \"... rebuild_cache\"\n",
      "\t@echo \"... spdlog_headers_for_ide\"\n",
      "\t@echo \"... ContinuousCoverage\"\n",
      "\t@echo \"... ContinuousTest\"\n",
      "\t@echo \"... ContinuousBuild\"\n",
      "\t@echo \"... ContinuousStart\"\n",
      "\t@echo \"... ExperimentalBuild\"\n",
      "\t@echo \"... ExperimentalCoverage\"\n",
      "\t@echo \"... ExperimentalSubmit\"\n",
      "\t@echo \"... ContinuousUpdate\"\n",
      "\t@echo \"... ExperimentalUpdate\"\n",
      "\t@echo \"... install\"\n",
      "\t@echo \"... ExperimentalStart\"\n",
      "\t@echo \"... ContinuousSubmit\"\n",
      "\t@echo \"... ExperimentalTest\"\n",
      "\t@echo \"... NightlySubmit\"\n",
      "\t@echo \"... NightlyMemCheck\"\n",
      "\t@echo \"... test\"\n",
      "\t@echo \"... ExperimentalConfigure\"\n",
      "\t@echo \"... NightlyCoverage\"\n",
      "\t@echo \"... NightlyTest\"\n",
      "\t@echo \"... ContinuousMemCheck\"\n",
      "\t@echo \"... NightlyBuild\"\n",
      "\t@echo \"... NightlyConfigure\"\n",
      "\t@echo \"... NightlyUpdate\"\n",
      "\t@echo \"... edit_cache\"\n",
      "\t@echo \"... NightlyMemoryCheck\"\n",
      "\t@echo \"... ContinuousConfigure\"\n",
      "\t@echo \"... Nightly\"\n",
      "\t@echo \"... NightlyStart\"\n",
      "\t@echo \"... ExperimentalMemCheck\"\n",
      "\t@echo \"... Continuous\"\n",
      "\t@echo \"... Experimental\"\n",
      "\t@echo \"... catch_tests\"\n",
      ".PHONY : help\n",
      "\n",
      "\n",
      "\n",
      "#=============================================================================\n",
      "# Special targets to cleanup operation of make.\n",
      "\n",
      "# Special rule to run CMake to check the build system integrity.\n",
      "# No rule that depends on this can have commands that come from listfiles\n",
      "# because they might be regenerated.\n",
      "cmake_check_build_system:\n",
      "\t$(CMAKE_COMMAND) -H$(CMAKE_SOURCE_DIR) -B$(CMAKE_BINARY_DIR) --check-build-system CMakeFiles/Makefile.cmake 0\n",
      ".PHONY : cmake_check_build_system\n",
      "\n"
     ]
    }
   ],
   "source": [
    "%%bash\n",
    "cd /tmp/spdlog-build\n",
    "less Makefile"
   ]
  },
  {
   "cell_type": "code",
   "execution_count": 42,
   "metadata": {
    "collapsed": false
   },
   "outputs": [
    {
     "name": "stderr",
     "output_type": "stream",
     "text": [
      "make[1]: *** No rule to make target `/tmp/spdlog-build/all'.  Stop.\n",
      "make: *** [all] Error 2\n"
     ]
    }
   ],
   "source": [
    "%%bash\n",
    "cd /tmp/spdlog-build\n",
    "make"
   ]
  },
  {
   "cell_type": "markdown",
   "metadata": {},
   "source": [
    "%%bash\n",
    "cd /tmp/TickProject\n",
    "git checkout -b logging"
   ]
  },
  {
   "cell_type": "markdown",
   "metadata": {},
   "source": [
    "## Third party package usage strategies\n",
    "- Package Manager\n",
    "- Git submodule\n",
    "- In source\n",
    "- Separate repository (pkg-config)"
   ]
  },
  {
   "cell_type": "code",
   "execution_count": null,
   "metadata": {
    "collapsed": false,
    "deletable": true,
    "editable": true
   },
   "outputs": [],
   "source": [
    "from IPython.core.display import HTML\n",
    "HTML('<iframe src=https://www.atlassian.com/git/tutorials/setting-up-a-repository/ width=800 height=500></iframe>')"
   ]
  },
  {
   "cell_type": "code",
   "execution_count": null,
   "metadata": {
    "collapsed": false,
    "deletable": true,
    "editable": true
   },
   "outputs": [],
   "source": [
    "%%bash\n",
    "cd ..\n",
    "tree -C -I \"build|notebooks\""
   ]
  },
  {
   "cell_type": "code",
   "execution_count": null,
   "metadata": {
    "collapsed": false,
    "deletable": true,
    "editable": true
   },
   "outputs": [],
   "source": [
    "%%bash\n",
    "ls"
   ]
  },
  {
   "cell_type": "markdown",
   "metadata": {
    "deletable": true,
    "editable": true
   },
   "source": [
    "## Versionshantering\n",
    "\n",
    "![Alt Text](https://product.hubspot.com/hs-fs/hubfs/Git_101-1.jpg?t=1488923369752&width=620&height=516&name=Git_101-1.jpg \"Title\")"
   ]
  },
  {
   "cell_type": "markdown",
   "metadata": {
    "deletable": true,
    "editable": true
   },
   "source": [
    "<table>\n",
    "<th> <img src=\"areas.png\", width=600> </th>\n",
    "<th/>\n",
    "<th> <img src=\"areas.png\", width=600> </th>\n",
    "</table>"
   ]
  },
  {
   "cell_type": "code",
   "execution_count": null,
   "metadata": {
    "collapsed": true,
    "deletable": true,
    "editable": true
   },
   "outputs": [],
   "source": [
    "%lsmagic"
   ]
  },
  {
   "cell_type": "markdown",
   "metadata": {
    "deletable": true,
    "editable": true
   },
   "source": [
    "git archive --format=tar --remote=~/src/maker-presentation v0.2:TickCounter | tar xf -\n",
    "\n",
    "docker run --rm -it -v `pwd`:/work topcatse/mesondocker /bin/bash"
   ]
  }
 ],
 "metadata": {
  "kernelspec": {
   "display_name": "Python 3",
   "language": "python",
   "name": "python3"
  },
  "language_info": {
   "codemirror_mode": {
    "name": "ipython",
    "version": 3
   },
   "file_extension": ".py",
   "mimetype": "text/x-python",
   "name": "python",
   "nbconvert_exporter": "python",
   "pygments_lexer": "ipython3",
   "version": "3.6.1"
  }
 },
 "nbformat": 4,
 "nbformat_minor": 2
}
